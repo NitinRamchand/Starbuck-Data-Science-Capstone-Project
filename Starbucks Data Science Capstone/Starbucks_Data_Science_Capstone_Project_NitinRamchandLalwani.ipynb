{
 "cells": [
  {
   "cell_type": "markdown",
   "metadata": {},
   "source": [
    "# Starbucks Capstone Challenge\n",
    "\n",
    "### Introduction\n",
    "\n",
    "This data set contains simulated data that mimics customer behavior on the Starbucks rewards mobile app. Once every few days, Starbucks sends out an offer to users of the mobile app. An offer can be merely an advertisement for a drink or an actual offer such as a discount or BOGO (buy one get one free). Some users might not receive any offer during certain weeks. \n",
    "\n",
    "Not all users receive the same offer, and that is the challenge to solve with this data set.\n",
    "\n",
    "Your task is to combine transaction, demographic and offer data to determine which demographic groups respond best to which offer type. This data set is a simplified version of the real Starbucks app because the underlying simulator only has one product whereas Starbucks actually sells dozens of products.\n",
    "\n",
    "Every offer has a validity period before the offer expires. As an example, a BOGO offer might be valid for only 5 days. You'll see in the data set that informational offers have a validity period even though these ads are merely providing information about a product; for example, if an informational offer has 7 days of validity, you can assume the customer is feeling the influence of the offer for 7 days after receiving the advertisement.\n",
    "\n",
    "You'll be given transactional data showing user purchases made on the app including the timestamp of purchase and the amount of money spent on a purchase. This transactional data also has a record for each offer that a user receives as well as a record for when a user actually views the offer. There are also records for when a user completes an offer. \n",
    "\n",
    "Keep in mind as well that someone using the app might make a purchase through the app without having received an offer or seen an offer.\n",
    "\n",
    "### Example\n",
    "\n",
    "To give an example, a user could receive a discount offer buy 10 dollars get 2 off on Monday. The offer is valid for 10 days from receipt. If the customer accumulates at least 10 dollars in purchases during the validity period, the customer completes the offer.\n",
    "\n",
    "However, there are a few things to watch out for in this data set. Customers do not opt into the offers that they receive; in other words, a user can receive an offer, never actually view the offer, and still complete the offer. For example, a user might receive the \"buy 10 dollars get 2 dollars off offer\", but the user never opens the offer during the 10 day validity period. The customer spends 15 dollars during those ten days. There will be an offer completion record in the data set; however, the customer was not influenced by the offer because the customer never viewed the offer.\n",
    "\n",
    "### Cleaning\n",
    "\n",
    "This makes data cleaning especially important and tricky.\n",
    "\n",
    "You'll also want to take into account that some demographic groups will make purchases even if they don't receive an offer. From a business perspective, if a customer is going to make a 10 dollar purchase without an offer anyway, you wouldn't want to send a buy 10 dollars get 2 dollars off offer. You'll want to try to assess what a certain demographic group will buy when not receiving any offers.\n",
    "\n",
    "### Final Advice\n",
    "\n",
    "Because this is a capstone project, you are free to analyze the data any way you see fit. For example, you could build a machine learning model that predicts how much someone will spend based on demographics and offer type. Or you could build a model that predicts whether or not someone will respond to an offer. Or, you don't need to build a machine learning model at all. You could develop a set of heuristics that determine what offer you should send to each customer (i.e., 75 percent of women customers who were 35 years old responded to offer A vs 40 percent from the same demographic to offer B, so send offer A)."
   ]
  },
  {
   "cell_type": "markdown",
   "metadata": {},
   "source": [
    "# Data Sets\n",
    "\n",
    "The data is contained in three files:\n",
    "\n",
    "* portfolio.json - containing offer ids and meta data about each offer (duration, type, etc.)\n",
    "* profile.json - demographic data for each customer\n",
    "* transcript.json - records for transactions, offers received, offers viewed, and offers completed\n",
    "\n",
    "Here is the schema and explanation of each variable in the files:\n",
    "\n",
    "**portfolio.json**\n",
    "* id (string) - offer id\n",
    "* offer_type (string) - type of offer ie BOGO, discount, informational\n",
    "* difficulty (int) - minimum required spend to complete an offer\n",
    "* reward (int) - reward given for completing an offer\n",
    "* duration (int) - time for offer to be open, in days\n",
    "* channels (list of strings)\n",
    "\n",
    "**profile.json**\n",
    "* age (int) - age of the customer \n",
    "* became_member_on (int) - date when customer created an app account\n",
    "* gender (str) - gender of the customer (note some entries contain 'O' for other rather than M or F)\n",
    "* id (str) - customer id\n",
    "* income (float) - customer's income\n",
    "\n",
    "**transcript.json**\n",
    "* event (str) - record description (ie transaction, offer received, offer viewed, etc.)\n",
    "* person (str) - customer id\n",
    "* time (int) - time in hours since start of test. The data begins at time t=0\n",
    "* value - (dict of strings) - either an offer id or transaction amount depending on the record\n",
    "\n",
    "**Note:** If you are using the workspace, you will need to go to the terminal and run the command `conda update pandas` before reading in the files. This is because the version of pandas in the workspace cannot read in the transcript.json file correctly, but the newest version of pandas can. You can access the termnal from the orange icon in the top left of this notebook.  \n",
    "\n",
    "You can see how to access the terminal and how the install works using the two images below.  First you need to access the terminal:\n",
    "\n",
    "<img src=\"pic1.png\"/>\n",
    "\n",
    "Then you will want to run the above command:\n",
    "\n",
    "<img src=\"pic2.png\"/>\n",
    "\n",
    "Finally, when you enter back into the notebook (use the jupyter icon again), you should be able to run the below cell without any errors."
   ]
  },
  {
   "cell_type": "code",
   "execution_count": 143,
   "metadata": {},
   "outputs": [],
   "source": [
    "import pandas as pd\n",
    "import numpy as np\n",
    "import math\n",
    "import json\n",
    "%matplotlib inline\n",
    "\n",
    "import matplotlib\n",
    "import numpy as np\n",
    "import matplotlib.pyplot as plt\n",
    "import datetime\n",
    "\n",
    "from sklearn.preprocessing import StandardScaler, MinMaxScaler\n",
    "from sklearn.model_selection import GridSearchCV\n",
    "from sklearn.linear_model import LogisticRegression\n",
    "from sklearn.model_selection import train_test_split\n",
    "from sklearn.model_selection import RandomizedSearchCV, GridSearchCV\n",
    "from sklearn.ensemble import RandomForestClassifier\n",
    "from sklearn.svm import SVC\n",
    "from sklearn.neighbors import KNeighborsClassifier\n",
    "from sklearn.naive_bayes import GaussianNB\n",
    "from sklearn.tree import DecisionTreeClassifier\n",
    "from sklearn.ensemble import AdaBoostClassifier\n",
    "from sklearn.metrics import accuracy_score, precision_score, recall_score, f1_score\n",
    "\n",
    "\n",
    "# read in the json files\n",
    "portfolio = pd.read_json('portfolio.json', orient='records', lines=True)\n",
    "profile = pd.read_json('profile.json', orient='records', lines=True)\n",
    "transcript = pd.read_json('transcript.json', orient='records', lines=True)"
   ]
  },
  {
   "cell_type": "markdown",
   "metadata": {},
   "source": [
    "__Data Exploration & Wrangling__"
   ]
  },
  {
   "cell_type": "markdown",
   "metadata": {},
   "source": [
    "Porfolio dataset"
   ]
  },
  {
   "cell_type": "code",
   "execution_count": 2,
   "metadata": {},
   "outputs": [
    {
     "data": {
      "text/html": [
       "<div>\n",
       "<style scoped>\n",
       "    .dataframe tbody tr th:only-of-type {\n",
       "        vertical-align: middle;\n",
       "    }\n",
       "\n",
       "    .dataframe tbody tr th {\n",
       "        vertical-align: top;\n",
       "    }\n",
       "\n",
       "    .dataframe thead th {\n",
       "        text-align: right;\n",
       "    }\n",
       "</style>\n",
       "<table border=\"1\" class=\"dataframe\">\n",
       "  <thead>\n",
       "    <tr style=\"text-align: right;\">\n",
       "      <th></th>\n",
       "      <th>reward</th>\n",
       "      <th>channels</th>\n",
       "      <th>difficulty</th>\n",
       "      <th>duration</th>\n",
       "      <th>offer_type</th>\n",
       "      <th>id</th>\n",
       "    </tr>\n",
       "  </thead>\n",
       "  <tbody>\n",
       "    <tr>\n",
       "      <th>0</th>\n",
       "      <td>10</td>\n",
       "      <td>[email, mobile, social]</td>\n",
       "      <td>10</td>\n",
       "      <td>7</td>\n",
       "      <td>bogo</td>\n",
       "      <td>ae264e3637204a6fb9bb56bc8210ddfd</td>\n",
       "    </tr>\n",
       "    <tr>\n",
       "      <th>1</th>\n",
       "      <td>10</td>\n",
       "      <td>[web, email, mobile, social]</td>\n",
       "      <td>10</td>\n",
       "      <td>5</td>\n",
       "      <td>bogo</td>\n",
       "      <td>4d5c57ea9a6940dd891ad53e9dbe8da0</td>\n",
       "    </tr>\n",
       "    <tr>\n",
       "      <th>2</th>\n",
       "      <td>0</td>\n",
       "      <td>[web, email, mobile]</td>\n",
       "      <td>0</td>\n",
       "      <td>4</td>\n",
       "      <td>informational</td>\n",
       "      <td>3f207df678b143eea3cee63160fa8bed</td>\n",
       "    </tr>\n",
       "    <tr>\n",
       "      <th>3</th>\n",
       "      <td>5</td>\n",
       "      <td>[web, email, mobile]</td>\n",
       "      <td>5</td>\n",
       "      <td>7</td>\n",
       "      <td>bogo</td>\n",
       "      <td>9b98b8c7a33c4b65b9aebfe6a799e6d9</td>\n",
       "    </tr>\n",
       "    <tr>\n",
       "      <th>4</th>\n",
       "      <td>5</td>\n",
       "      <td>[web, email]</td>\n",
       "      <td>20</td>\n",
       "      <td>10</td>\n",
       "      <td>discount</td>\n",
       "      <td>0b1e1539f2cc45b7b9fa7c272da2e1d7</td>\n",
       "    </tr>\n",
       "    <tr>\n",
       "      <th>5</th>\n",
       "      <td>3</td>\n",
       "      <td>[web, email, mobile, social]</td>\n",
       "      <td>7</td>\n",
       "      <td>7</td>\n",
       "      <td>discount</td>\n",
       "      <td>2298d6c36e964ae4a3e7e9706d1fb8c2</td>\n",
       "    </tr>\n",
       "    <tr>\n",
       "      <th>6</th>\n",
       "      <td>2</td>\n",
       "      <td>[web, email, mobile, social]</td>\n",
       "      <td>10</td>\n",
       "      <td>10</td>\n",
       "      <td>discount</td>\n",
       "      <td>fafdcd668e3743c1bb461111dcafc2a4</td>\n",
       "    </tr>\n",
       "    <tr>\n",
       "      <th>7</th>\n",
       "      <td>0</td>\n",
       "      <td>[email, mobile, social]</td>\n",
       "      <td>0</td>\n",
       "      <td>3</td>\n",
       "      <td>informational</td>\n",
       "      <td>5a8bc65990b245e5a138643cd4eb9837</td>\n",
       "    </tr>\n",
       "    <tr>\n",
       "      <th>8</th>\n",
       "      <td>5</td>\n",
       "      <td>[web, email, mobile, social]</td>\n",
       "      <td>5</td>\n",
       "      <td>5</td>\n",
       "      <td>bogo</td>\n",
       "      <td>f19421c1d4aa40978ebb69ca19b0e20d</td>\n",
       "    </tr>\n",
       "    <tr>\n",
       "      <th>9</th>\n",
       "      <td>2</td>\n",
       "      <td>[web, email, mobile]</td>\n",
       "      <td>10</td>\n",
       "      <td>7</td>\n",
       "      <td>discount</td>\n",
       "      <td>2906b810c7d4411798c6938adc9daaa5</td>\n",
       "    </tr>\n",
       "  </tbody>\n",
       "</table>\n",
       "</div>"
      ],
      "text/plain": [
       "   reward                      channels  difficulty  duration     offer_type  \\\n",
       "0      10       [email, mobile, social]          10         7           bogo   \n",
       "1      10  [web, email, mobile, social]          10         5           bogo   \n",
       "2       0          [web, email, mobile]           0         4  informational   \n",
       "3       5          [web, email, mobile]           5         7           bogo   \n",
       "4       5                  [web, email]          20        10       discount   \n",
       "5       3  [web, email, mobile, social]           7         7       discount   \n",
       "6       2  [web, email, mobile, social]          10        10       discount   \n",
       "7       0       [email, mobile, social]           0         3  informational   \n",
       "8       5  [web, email, mobile, social]           5         5           bogo   \n",
       "9       2          [web, email, mobile]          10         7       discount   \n",
       "\n",
       "                                 id  \n",
       "0  ae264e3637204a6fb9bb56bc8210ddfd  \n",
       "1  4d5c57ea9a6940dd891ad53e9dbe8da0  \n",
       "2  3f207df678b143eea3cee63160fa8bed  \n",
       "3  9b98b8c7a33c4b65b9aebfe6a799e6d9  \n",
       "4  0b1e1539f2cc45b7b9fa7c272da2e1d7  \n",
       "5  2298d6c36e964ae4a3e7e9706d1fb8c2  \n",
       "6  fafdcd668e3743c1bb461111dcafc2a4  \n",
       "7  5a8bc65990b245e5a138643cd4eb9837  \n",
       "8  f19421c1d4aa40978ebb69ca19b0e20d  \n",
       "9  2906b810c7d4411798c6938adc9daaa5  "
      ]
     },
     "execution_count": 2,
     "metadata": {},
     "output_type": "execute_result"
    }
   ],
   "source": [
    "portfolio"
   ]
  },
  {
   "cell_type": "code",
   "execution_count": 3,
   "metadata": {},
   "outputs": [
    {
     "data": {
      "text/plain": [
       "(10, 6)"
      ]
     },
     "execution_count": 3,
     "metadata": {},
     "output_type": "execute_result"
    }
   ],
   "source": [
    "portfolio.shape"
   ]
  },
  {
   "cell_type": "code",
   "execution_count": 4,
   "metadata": {},
   "outputs": [
    {
     "name": "stdout",
     "output_type": "stream",
     "text": [
      "<class 'pandas.core.frame.DataFrame'>\n",
      "RangeIndex: 10 entries, 0 to 9\n",
      "Data columns (total 6 columns):\n",
      " #   Column      Non-Null Count  Dtype \n",
      "---  ------      --------------  ----- \n",
      " 0   reward      10 non-null     int64 \n",
      " 1   channels    10 non-null     object\n",
      " 2   difficulty  10 non-null     int64 \n",
      " 3   duration    10 non-null     int64 \n",
      " 4   offer_type  10 non-null     object\n",
      " 5   id          10 non-null     object\n",
      "dtypes: int64(3), object(3)\n",
      "memory usage: 608.0+ bytes\n"
     ]
    }
   ],
   "source": [
    "portfolio.info()"
   ]
  },
  {
   "cell_type": "code",
   "execution_count": 5,
   "metadata": {},
   "outputs": [
    {
     "data": {
      "text/html": [
       "<div>\n",
       "<style scoped>\n",
       "    .dataframe tbody tr th:only-of-type {\n",
       "        vertical-align: middle;\n",
       "    }\n",
       "\n",
       "    .dataframe tbody tr th {\n",
       "        vertical-align: top;\n",
       "    }\n",
       "\n",
       "    .dataframe thead th {\n",
       "        text-align: right;\n",
       "    }\n",
       "</style>\n",
       "<table border=\"1\" class=\"dataframe\">\n",
       "  <thead>\n",
       "    <tr style=\"text-align: right;\">\n",
       "      <th></th>\n",
       "      <th>reward</th>\n",
       "      <th>difficulty</th>\n",
       "      <th>duration</th>\n",
       "    </tr>\n",
       "  </thead>\n",
       "  <tbody>\n",
       "    <tr>\n",
       "      <th>count</th>\n",
       "      <td>10.000000</td>\n",
       "      <td>10.000000</td>\n",
       "      <td>10.000000</td>\n",
       "    </tr>\n",
       "    <tr>\n",
       "      <th>mean</th>\n",
       "      <td>4.200000</td>\n",
       "      <td>7.700000</td>\n",
       "      <td>6.500000</td>\n",
       "    </tr>\n",
       "    <tr>\n",
       "      <th>std</th>\n",
       "      <td>3.583915</td>\n",
       "      <td>5.831905</td>\n",
       "      <td>2.321398</td>\n",
       "    </tr>\n",
       "    <tr>\n",
       "      <th>min</th>\n",
       "      <td>0.000000</td>\n",
       "      <td>0.000000</td>\n",
       "      <td>3.000000</td>\n",
       "    </tr>\n",
       "    <tr>\n",
       "      <th>25%</th>\n",
       "      <td>2.000000</td>\n",
       "      <td>5.000000</td>\n",
       "      <td>5.000000</td>\n",
       "    </tr>\n",
       "    <tr>\n",
       "      <th>50%</th>\n",
       "      <td>4.000000</td>\n",
       "      <td>8.500000</td>\n",
       "      <td>7.000000</td>\n",
       "    </tr>\n",
       "    <tr>\n",
       "      <th>75%</th>\n",
       "      <td>5.000000</td>\n",
       "      <td>10.000000</td>\n",
       "      <td>7.000000</td>\n",
       "    </tr>\n",
       "    <tr>\n",
       "      <th>max</th>\n",
       "      <td>10.000000</td>\n",
       "      <td>20.000000</td>\n",
       "      <td>10.000000</td>\n",
       "    </tr>\n",
       "  </tbody>\n",
       "</table>\n",
       "</div>"
      ],
      "text/plain": [
       "          reward  difficulty   duration\n",
       "count  10.000000   10.000000  10.000000\n",
       "mean    4.200000    7.700000   6.500000\n",
       "std     3.583915    5.831905   2.321398\n",
       "min     0.000000    0.000000   3.000000\n",
       "25%     2.000000    5.000000   5.000000\n",
       "50%     4.000000    8.500000   7.000000\n",
       "75%     5.000000   10.000000   7.000000\n",
       "max    10.000000   20.000000  10.000000"
      ]
     },
     "execution_count": 5,
     "metadata": {},
     "output_type": "execute_result"
    }
   ],
   "source": [
    "portfolio.describe()"
   ]
  },
  {
   "cell_type": "markdown",
   "metadata": {},
   "source": [
    "I will perform two operations for cleaning the portfolio.json data:\n",
    "1) Change the column id to offer_id \\\n",
    "2) Split the channels list of string into multiple columns so that we can have 1's and 0's and use these feature later in our analysis and model \\\n",
    "3) Split the  offer_type column to also get the dumies and use this as a feature. \\ \n",
    "4) Add a prefix to the reward column "
   ]
  },
  {
   "cell_type": "code",
   "execution_count": 6,
   "metadata": {},
   "outputs": [],
   "source": [
    "portfolio.rename(columns = {'id':'offer_id'}, inplace = True)"
   ]
  },
  {
   "cell_type": "code",
   "execution_count": 7,
   "metadata": {},
   "outputs": [],
   "source": [
    "portfolio.rename(columns = {'reward':'offer_reward'}, inplace = True)"
   ]
  },
  {
   "cell_type": "code",
   "execution_count": 8,
   "metadata": {},
   "outputs": [
    {
     "data": {
      "text/html": [
       "<div>\n",
       "<style scoped>\n",
       "    .dataframe tbody tr th:only-of-type {\n",
       "        vertical-align: middle;\n",
       "    }\n",
       "\n",
       "    .dataframe tbody tr th {\n",
       "        vertical-align: top;\n",
       "    }\n",
       "\n",
       "    .dataframe thead th {\n",
       "        text-align: right;\n",
       "    }\n",
       "</style>\n",
       "<table border=\"1\" class=\"dataframe\">\n",
       "  <thead>\n",
       "    <tr style=\"text-align: right;\">\n",
       "      <th></th>\n",
       "      <th>offer_reward</th>\n",
       "      <th>channels</th>\n",
       "      <th>difficulty</th>\n",
       "      <th>duration</th>\n",
       "      <th>offer_type</th>\n",
       "      <th>offer_id</th>\n",
       "    </tr>\n",
       "  </thead>\n",
       "  <tbody>\n",
       "    <tr>\n",
       "      <th>0</th>\n",
       "      <td>10</td>\n",
       "      <td>[email, mobile, social]</td>\n",
       "      <td>10</td>\n",
       "      <td>7</td>\n",
       "      <td>bogo</td>\n",
       "      <td>ae264e3637204a6fb9bb56bc8210ddfd</td>\n",
       "    </tr>\n",
       "  </tbody>\n",
       "</table>\n",
       "</div>"
      ],
      "text/plain": [
       "   offer_reward                 channels  difficulty  duration offer_type  \\\n",
       "0            10  [email, mobile, social]          10         7       bogo   \n",
       "\n",
       "                           offer_id  \n",
       "0  ae264e3637204a6fb9bb56bc8210ddfd  "
      ]
     },
     "execution_count": 8,
     "metadata": {},
     "output_type": "execute_result"
    }
   ],
   "source": [
    "portfolio.head(1)"
   ]
  },
  {
   "cell_type": "code",
   "execution_count": 9,
   "metadata": {
    "tags": []
   },
   "outputs": [],
   "source": [
    "dummy_channels_df = pd.get_dummies(portfolio['channels'].explode()).groupby(level=0).sum()"
   ]
  },
  {
   "cell_type": "code",
   "execution_count": 10,
   "metadata": {},
   "outputs": [],
   "source": [
    "dummys_offer_type_df = pd.get_dummies(portfolio['offer_type'],prefix=\"offer_type\")"
   ]
  },
  {
   "cell_type": "code",
   "execution_count": 11,
   "metadata": {},
   "outputs": [],
   "source": [
    "portfolio = pd.concat([portfolio, dummy_channels_df, dummys_offer_type_df], axis=1)\n",
    "portfolio.drop(columns='channels',inplace=True)\n",
    "portfolio.drop(columns='offer_type',inplace=True)"
   ]
  },
  {
   "cell_type": "code",
   "execution_count": 12,
   "metadata": {},
   "outputs": [
    {
     "data": {
      "text/html": [
       "<div>\n",
       "<style scoped>\n",
       "    .dataframe tbody tr th:only-of-type {\n",
       "        vertical-align: middle;\n",
       "    }\n",
       "\n",
       "    .dataframe tbody tr th {\n",
       "        vertical-align: top;\n",
       "    }\n",
       "\n",
       "    .dataframe thead th {\n",
       "        text-align: right;\n",
       "    }\n",
       "</style>\n",
       "<table border=\"1\" class=\"dataframe\">\n",
       "  <thead>\n",
       "    <tr style=\"text-align: right;\">\n",
       "      <th></th>\n",
       "      <th>offer_reward</th>\n",
       "      <th>difficulty</th>\n",
       "      <th>duration</th>\n",
       "      <th>offer_id</th>\n",
       "      <th>email</th>\n",
       "      <th>mobile</th>\n",
       "      <th>social</th>\n",
       "      <th>web</th>\n",
       "      <th>offer_type_bogo</th>\n",
       "      <th>offer_type_discount</th>\n",
       "      <th>offer_type_informational</th>\n",
       "    </tr>\n",
       "  </thead>\n",
       "  <tbody>\n",
       "    <tr>\n",
       "      <th>0</th>\n",
       "      <td>10</td>\n",
       "      <td>10</td>\n",
       "      <td>7</td>\n",
       "      <td>ae264e3637204a6fb9bb56bc8210ddfd</td>\n",
       "      <td>1</td>\n",
       "      <td>1</td>\n",
       "      <td>1</td>\n",
       "      <td>0</td>\n",
       "      <td>1</td>\n",
       "      <td>0</td>\n",
       "      <td>0</td>\n",
       "    </tr>\n",
       "    <tr>\n",
       "      <th>1</th>\n",
       "      <td>10</td>\n",
       "      <td>10</td>\n",
       "      <td>5</td>\n",
       "      <td>4d5c57ea9a6940dd891ad53e9dbe8da0</td>\n",
       "      <td>1</td>\n",
       "      <td>1</td>\n",
       "      <td>1</td>\n",
       "      <td>1</td>\n",
       "      <td>1</td>\n",
       "      <td>0</td>\n",
       "      <td>0</td>\n",
       "    </tr>\n",
       "    <tr>\n",
       "      <th>2</th>\n",
       "      <td>0</td>\n",
       "      <td>0</td>\n",
       "      <td>4</td>\n",
       "      <td>3f207df678b143eea3cee63160fa8bed</td>\n",
       "      <td>1</td>\n",
       "      <td>1</td>\n",
       "      <td>0</td>\n",
       "      <td>1</td>\n",
       "      <td>0</td>\n",
       "      <td>0</td>\n",
       "      <td>1</td>\n",
       "    </tr>\n",
       "    <tr>\n",
       "      <th>3</th>\n",
       "      <td>5</td>\n",
       "      <td>5</td>\n",
       "      <td>7</td>\n",
       "      <td>9b98b8c7a33c4b65b9aebfe6a799e6d9</td>\n",
       "      <td>1</td>\n",
       "      <td>1</td>\n",
       "      <td>0</td>\n",
       "      <td>1</td>\n",
       "      <td>1</td>\n",
       "      <td>0</td>\n",
       "      <td>0</td>\n",
       "    </tr>\n",
       "    <tr>\n",
       "      <th>4</th>\n",
       "      <td>5</td>\n",
       "      <td>20</td>\n",
       "      <td>10</td>\n",
       "      <td>0b1e1539f2cc45b7b9fa7c272da2e1d7</td>\n",
       "      <td>1</td>\n",
       "      <td>0</td>\n",
       "      <td>0</td>\n",
       "      <td>1</td>\n",
       "      <td>0</td>\n",
       "      <td>1</td>\n",
       "      <td>0</td>\n",
       "    </tr>\n",
       "    <tr>\n",
       "      <th>5</th>\n",
       "      <td>3</td>\n",
       "      <td>7</td>\n",
       "      <td>7</td>\n",
       "      <td>2298d6c36e964ae4a3e7e9706d1fb8c2</td>\n",
       "      <td>1</td>\n",
       "      <td>1</td>\n",
       "      <td>1</td>\n",
       "      <td>1</td>\n",
       "      <td>0</td>\n",
       "      <td>1</td>\n",
       "      <td>0</td>\n",
       "    </tr>\n",
       "    <tr>\n",
       "      <th>6</th>\n",
       "      <td>2</td>\n",
       "      <td>10</td>\n",
       "      <td>10</td>\n",
       "      <td>fafdcd668e3743c1bb461111dcafc2a4</td>\n",
       "      <td>1</td>\n",
       "      <td>1</td>\n",
       "      <td>1</td>\n",
       "      <td>1</td>\n",
       "      <td>0</td>\n",
       "      <td>1</td>\n",
       "      <td>0</td>\n",
       "    </tr>\n",
       "    <tr>\n",
       "      <th>7</th>\n",
       "      <td>0</td>\n",
       "      <td>0</td>\n",
       "      <td>3</td>\n",
       "      <td>5a8bc65990b245e5a138643cd4eb9837</td>\n",
       "      <td>1</td>\n",
       "      <td>1</td>\n",
       "      <td>1</td>\n",
       "      <td>0</td>\n",
       "      <td>0</td>\n",
       "      <td>0</td>\n",
       "      <td>1</td>\n",
       "    </tr>\n",
       "    <tr>\n",
       "      <th>8</th>\n",
       "      <td>5</td>\n",
       "      <td>5</td>\n",
       "      <td>5</td>\n",
       "      <td>f19421c1d4aa40978ebb69ca19b0e20d</td>\n",
       "      <td>1</td>\n",
       "      <td>1</td>\n",
       "      <td>1</td>\n",
       "      <td>1</td>\n",
       "      <td>1</td>\n",
       "      <td>0</td>\n",
       "      <td>0</td>\n",
       "    </tr>\n",
       "    <tr>\n",
       "      <th>9</th>\n",
       "      <td>2</td>\n",
       "      <td>10</td>\n",
       "      <td>7</td>\n",
       "      <td>2906b810c7d4411798c6938adc9daaa5</td>\n",
       "      <td>1</td>\n",
       "      <td>1</td>\n",
       "      <td>0</td>\n",
       "      <td>1</td>\n",
       "      <td>0</td>\n",
       "      <td>1</td>\n",
       "      <td>0</td>\n",
       "    </tr>\n",
       "  </tbody>\n",
       "</table>\n",
       "</div>"
      ],
      "text/plain": [
       "   offer_reward  difficulty  duration                          offer_id  \\\n",
       "0            10          10         7  ae264e3637204a6fb9bb56bc8210ddfd   \n",
       "1            10          10         5  4d5c57ea9a6940dd891ad53e9dbe8da0   \n",
       "2             0           0         4  3f207df678b143eea3cee63160fa8bed   \n",
       "3             5           5         7  9b98b8c7a33c4b65b9aebfe6a799e6d9   \n",
       "4             5          20        10  0b1e1539f2cc45b7b9fa7c272da2e1d7   \n",
       "5             3           7         7  2298d6c36e964ae4a3e7e9706d1fb8c2   \n",
       "6             2          10        10  fafdcd668e3743c1bb461111dcafc2a4   \n",
       "7             0           0         3  5a8bc65990b245e5a138643cd4eb9837   \n",
       "8             5           5         5  f19421c1d4aa40978ebb69ca19b0e20d   \n",
       "9             2          10         7  2906b810c7d4411798c6938adc9daaa5   \n",
       "\n",
       "   email  mobile  social  web  offer_type_bogo  offer_type_discount  \\\n",
       "0      1       1       1    0                1                    0   \n",
       "1      1       1       1    1                1                    0   \n",
       "2      1       1       0    1                0                    0   \n",
       "3      1       1       0    1                1                    0   \n",
       "4      1       0       0    1                0                    1   \n",
       "5      1       1       1    1                0                    1   \n",
       "6      1       1       1    1                0                    1   \n",
       "7      1       1       1    0                0                    0   \n",
       "8      1       1       1    1                1                    0   \n",
       "9      1       1       0    1                0                    1   \n",
       "\n",
       "   offer_type_informational  \n",
       "0                         0  \n",
       "1                         0  \n",
       "2                         1  \n",
       "3                         0  \n",
       "4                         0  \n",
       "5                         0  \n",
       "6                         0  \n",
       "7                         1  \n",
       "8                         0  \n",
       "9                         0  "
      ]
     },
     "execution_count": 12,
     "metadata": {},
     "output_type": "execute_result"
    }
   ],
   "source": [
    "portfolio"
   ]
  },
  {
   "cell_type": "markdown",
   "metadata": {},
   "source": [
    "Profile Dataset"
   ]
  },
  {
   "cell_type": "code",
   "execution_count": 13,
   "metadata": {},
   "outputs": [
    {
     "data": {
      "text/html": [
       "<div>\n",
       "<style scoped>\n",
       "    .dataframe tbody tr th:only-of-type {\n",
       "        vertical-align: middle;\n",
       "    }\n",
       "\n",
       "    .dataframe tbody tr th {\n",
       "        vertical-align: top;\n",
       "    }\n",
       "\n",
       "    .dataframe thead th {\n",
       "        text-align: right;\n",
       "    }\n",
       "</style>\n",
       "<table border=\"1\" class=\"dataframe\">\n",
       "  <thead>\n",
       "    <tr style=\"text-align: right;\">\n",
       "      <th></th>\n",
       "      <th>gender</th>\n",
       "      <th>age</th>\n",
       "      <th>id</th>\n",
       "      <th>became_member_on</th>\n",
       "      <th>income</th>\n",
       "    </tr>\n",
       "  </thead>\n",
       "  <tbody>\n",
       "    <tr>\n",
       "      <th>0</th>\n",
       "      <td>None</td>\n",
       "      <td>118</td>\n",
       "      <td>68be06ca386d4c31939f3a4f0e3dd783</td>\n",
       "      <td>20170212</td>\n",
       "      <td>NaN</td>\n",
       "    </tr>\n",
       "    <tr>\n",
       "      <th>1</th>\n",
       "      <td>F</td>\n",
       "      <td>55</td>\n",
       "      <td>0610b486422d4921ae7d2bf64640c50b</td>\n",
       "      <td>20170715</td>\n",
       "      <td>112000.0</td>\n",
       "    </tr>\n",
       "    <tr>\n",
       "      <th>2</th>\n",
       "      <td>None</td>\n",
       "      <td>118</td>\n",
       "      <td>38fe809add3b4fcf9315a9694bb96ff5</td>\n",
       "      <td>20180712</td>\n",
       "      <td>NaN</td>\n",
       "    </tr>\n",
       "    <tr>\n",
       "      <th>3</th>\n",
       "      <td>F</td>\n",
       "      <td>75</td>\n",
       "      <td>78afa995795e4d85b5d9ceeca43f5fef</td>\n",
       "      <td>20170509</td>\n",
       "      <td>100000.0</td>\n",
       "    </tr>\n",
       "    <tr>\n",
       "      <th>4</th>\n",
       "      <td>None</td>\n",
       "      <td>118</td>\n",
       "      <td>a03223e636434f42ac4c3df47e8bac43</td>\n",
       "      <td>20170804</td>\n",
       "      <td>NaN</td>\n",
       "    </tr>\n",
       "  </tbody>\n",
       "</table>\n",
       "</div>"
      ],
      "text/plain": [
       "  gender  age                                id  became_member_on    income\n",
       "0   None  118  68be06ca386d4c31939f3a4f0e3dd783          20170212       NaN\n",
       "1      F   55  0610b486422d4921ae7d2bf64640c50b          20170715  112000.0\n",
       "2   None  118  38fe809add3b4fcf9315a9694bb96ff5          20180712       NaN\n",
       "3      F   75  78afa995795e4d85b5d9ceeca43f5fef          20170509  100000.0\n",
       "4   None  118  a03223e636434f42ac4c3df47e8bac43          20170804       NaN"
      ]
     },
     "execution_count": 13,
     "metadata": {},
     "output_type": "execute_result"
    }
   ],
   "source": [
    "profile.head()"
   ]
  },
  {
   "cell_type": "code",
   "execution_count": 14,
   "metadata": {},
   "outputs": [
    {
     "data": {
      "text/plain": [
       "(17000, 5)"
      ]
     },
     "execution_count": 14,
     "metadata": {},
     "output_type": "execute_result"
    }
   ],
   "source": [
    "profile.shape"
   ]
  },
  {
   "cell_type": "code",
   "execution_count": 15,
   "metadata": {},
   "outputs": [
    {
     "name": "stdout",
     "output_type": "stream",
     "text": [
      "<class 'pandas.core.frame.DataFrame'>\n",
      "RangeIndex: 17000 entries, 0 to 16999\n",
      "Data columns (total 5 columns):\n",
      " #   Column            Non-Null Count  Dtype  \n",
      "---  ------            --------------  -----  \n",
      " 0   gender            14825 non-null  object \n",
      " 1   age               17000 non-null  int64  \n",
      " 2   id                17000 non-null  object \n",
      " 3   became_member_on  17000 non-null  int64  \n",
      " 4   income            14825 non-null  float64\n",
      "dtypes: float64(1), int64(2), object(2)\n",
      "memory usage: 664.2+ KB\n"
     ]
    }
   ],
   "source": [
    "profile.info()"
   ]
  },
  {
   "cell_type": "code",
   "execution_count": 16,
   "metadata": {},
   "outputs": [
    {
     "data": {
      "text/html": [
       "<div>\n",
       "<style scoped>\n",
       "    .dataframe tbody tr th:only-of-type {\n",
       "        vertical-align: middle;\n",
       "    }\n",
       "\n",
       "    .dataframe tbody tr th {\n",
       "        vertical-align: top;\n",
       "    }\n",
       "\n",
       "    .dataframe thead th {\n",
       "        text-align: right;\n",
       "    }\n",
       "</style>\n",
       "<table border=\"1\" class=\"dataframe\">\n",
       "  <thead>\n",
       "    <tr style=\"text-align: right;\">\n",
       "      <th></th>\n",
       "      <th>age</th>\n",
       "      <th>became_member_on</th>\n",
       "      <th>income</th>\n",
       "    </tr>\n",
       "  </thead>\n",
       "  <tbody>\n",
       "    <tr>\n",
       "      <th>count</th>\n",
       "      <td>17000.000000</td>\n",
       "      <td>1.700000e+04</td>\n",
       "      <td>14825.000000</td>\n",
       "    </tr>\n",
       "    <tr>\n",
       "      <th>mean</th>\n",
       "      <td>62.531412</td>\n",
       "      <td>2.016703e+07</td>\n",
       "      <td>65404.991568</td>\n",
       "    </tr>\n",
       "    <tr>\n",
       "      <th>std</th>\n",
       "      <td>26.738580</td>\n",
       "      <td>1.167750e+04</td>\n",
       "      <td>21598.299410</td>\n",
       "    </tr>\n",
       "    <tr>\n",
       "      <th>min</th>\n",
       "      <td>18.000000</td>\n",
       "      <td>2.013073e+07</td>\n",
       "      <td>30000.000000</td>\n",
       "    </tr>\n",
       "    <tr>\n",
       "      <th>25%</th>\n",
       "      <td>45.000000</td>\n",
       "      <td>2.016053e+07</td>\n",
       "      <td>49000.000000</td>\n",
       "    </tr>\n",
       "    <tr>\n",
       "      <th>50%</th>\n",
       "      <td>58.000000</td>\n",
       "      <td>2.017080e+07</td>\n",
       "      <td>64000.000000</td>\n",
       "    </tr>\n",
       "    <tr>\n",
       "      <th>75%</th>\n",
       "      <td>73.000000</td>\n",
       "      <td>2.017123e+07</td>\n",
       "      <td>80000.000000</td>\n",
       "    </tr>\n",
       "    <tr>\n",
       "      <th>max</th>\n",
       "      <td>118.000000</td>\n",
       "      <td>2.018073e+07</td>\n",
       "      <td>120000.000000</td>\n",
       "    </tr>\n",
       "  </tbody>\n",
       "</table>\n",
       "</div>"
      ],
      "text/plain": [
       "                age  became_member_on         income\n",
       "count  17000.000000      1.700000e+04   14825.000000\n",
       "mean      62.531412      2.016703e+07   65404.991568\n",
       "std       26.738580      1.167750e+04   21598.299410\n",
       "min       18.000000      2.013073e+07   30000.000000\n",
       "25%       45.000000      2.016053e+07   49000.000000\n",
       "50%       58.000000      2.017080e+07   64000.000000\n",
       "75%       73.000000      2.017123e+07   80000.000000\n",
       "max      118.000000      2.018073e+07  120000.000000"
      ]
     },
     "execution_count": 16,
     "metadata": {},
     "output_type": "execute_result"
    }
   ],
   "source": [
    "profile.describe()"
   ]
  },
  {
   "cell_type": "code",
   "execution_count": 17,
   "metadata": {},
   "outputs": [
    {
     "data": {
      "image/png": "[encoded data removed]",
      "text/plain": [
       "<Figure size 432x288 with 1 Axes>"
      ]
     },
     "metadata": {
      "needs_background": "light"
     },
     "output_type": "display_data"
    }
   ],
   "source": [
    "profile.groupby('age')['age'].count().plot(marker='o', linestyle='None',color='g')\n",
    "plt.title(\"Age distribution of customers including value 118\")\n",
    "plt.grid(True)\n",
    "plt.ylabel('nº of customers');"
   ]
  },
  {
   "cell_type": "code",
   "execution_count": 18,
   "metadata": {},
   "outputs": [
    {
     "data": {
      "image/png": "[encoded data removed]",
      "text/plain": [
       "<Figure size 432x288 with 1 Axes>"
      ]
     },
     "metadata": {
      "needs_background": "light"
     },
     "output_type": "display_data"
    }
   ],
   "source": [
    "\n",
    "profile['income'].hist(bins=20)\n",
    "plt.title('Income Histogram of customers')\n",
    "plt.ylabel('Nº of Customers')\n",
    "plt.xlabel('Income');"
   ]
  },
  {
   "cell_type": "code",
   "execution_count": 19,
   "metadata": {},
   "outputs": [
    {
     "data": {
      "image/png": "[encoded data removed]",
      "text/plain": [
       "<Figure size 432x288 with 1 Axes>"
      ]
     },
     "metadata": {
      "needs_background": "light"
     },
     "output_type": "display_data"
    }
   ],
   "source": [
    "profile['gender'].value_counts().plot(kind='bar')\n",
    "plt.title('Gender distribution')\n",
    "plt.ylabel('Nº of Customers')\n",
    "plt.xlabel('Gender');"
   ]
  },
  {
   "cell_type": "markdown",
   "metadata": {},
   "source": [
    "Initially I will perform two operations for cleaning the profile.json data:\n",
    "1) Change the column id to customer_id \\\n",
    "2) Change the became_member_on from int type to datetime type. \\\n",
    "3) Remove profiles that have the age 118 since it refers to an unknown age and otherwise it will take the value into consideration which we don't want. \\\n",
    "4) Convert the categorical gender column to encode getting the dummies function \\\n",
    "5) Conver the became member on to a customer loyalty in days by subtracting todays date to when they became members on."
   ]
  },
  {
   "cell_type": "code",
   "execution_count": 20,
   "metadata": {},
   "outputs": [],
   "source": [
    "profile.rename(columns = {'id':'customer_id'}, inplace = True)"
   ]
  },
  {
   "cell_type": "code",
   "execution_count": 21,
   "metadata": {},
   "outputs": [],
   "source": [
    "profile['became_member_on'] = pd.to_datetime(profile['became_member_on'], format='%Y%m%d')"
   ]
  },
  {
   "cell_type": "code",
   "execution_count": 22,
   "metadata": {},
   "outputs": [
    {
     "data": {
      "image/png": "[encoded data removed]",
      "text/plain": [
       "<Figure size 432x288 with 1 Axes>"
      ]
     },
     "metadata": {
      "needs_background": "light"
     },
     "output_type": "display_data"
    }
   ],
   "source": [
    "profile.groupby(profile.became_member_on.dt.year).count()['became_member_on'].plot(kind='bar')\n",
    "plt.title('Becamse member on distribution')\n",
    "plt.ylabel('Nº of Customers')\n",
    "plt.xlabel('Year became member');"
   ]
  },
  {
   "cell_type": "code",
   "execution_count": 23,
   "metadata": {},
   "outputs": [],
   "source": [
    "profile = profile[profile.age != 118]"
   ]
  },
  {
   "cell_type": "code",
   "execution_count": 24,
   "metadata": {},
   "outputs": [
    {
     "name": "stdout",
     "output_type": "stream",
     "text": [
      "<class 'pandas.core.frame.DataFrame'>\n",
      "Int64Index: 14825 entries, 1 to 16999\n",
      "Data columns (total 5 columns):\n",
      " #   Column            Non-Null Count  Dtype         \n",
      "---  ------            --------------  -----         \n",
      " 0   gender            14825 non-null  object        \n",
      " 1   age               14825 non-null  int64         \n",
      " 2   customer_id       14825 non-null  object        \n",
      " 3   became_member_on  14825 non-null  datetime64[ns]\n",
      " 4   income            14825 non-null  float64       \n",
      "dtypes: datetime64[ns](1), float64(1), int64(1), object(2)\n",
      "memory usage: 694.9+ KB\n"
     ]
    }
   ],
   "source": [
    "profile.info()"
   ]
  },
  {
   "cell_type": "code",
   "execution_count": 25,
   "metadata": {},
   "outputs": [
    {
     "data": {
      "text/html": [
       "<div>\n",
       "<style scoped>\n",
       "    .dataframe tbody tr th:only-of-type {\n",
       "        vertical-align: middle;\n",
       "    }\n",
       "\n",
       "    .dataframe tbody tr th {\n",
       "        vertical-align: top;\n",
       "    }\n",
       "\n",
       "    .dataframe thead th {\n",
       "        text-align: right;\n",
       "    }\n",
       "</style>\n",
       "<table border=\"1\" class=\"dataframe\">\n",
       "  <thead>\n",
       "    <tr style=\"text-align: right;\">\n",
       "      <th></th>\n",
       "      <th>age</th>\n",
       "      <th>income</th>\n",
       "    </tr>\n",
       "  </thead>\n",
       "  <tbody>\n",
       "    <tr>\n",
       "      <th>count</th>\n",
       "      <td>14825.000000</td>\n",
       "      <td>14825.000000</td>\n",
       "    </tr>\n",
       "    <tr>\n",
       "      <th>mean</th>\n",
       "      <td>54.393524</td>\n",
       "      <td>65404.991568</td>\n",
       "    </tr>\n",
       "    <tr>\n",
       "      <th>std</th>\n",
       "      <td>17.383705</td>\n",
       "      <td>21598.299410</td>\n",
       "    </tr>\n",
       "    <tr>\n",
       "      <th>min</th>\n",
       "      <td>18.000000</td>\n",
       "      <td>30000.000000</td>\n",
       "    </tr>\n",
       "    <tr>\n",
       "      <th>25%</th>\n",
       "      <td>42.000000</td>\n",
       "      <td>49000.000000</td>\n",
       "    </tr>\n",
       "    <tr>\n",
       "      <th>50%</th>\n",
       "      <td>55.000000</td>\n",
       "      <td>64000.000000</td>\n",
       "    </tr>\n",
       "    <tr>\n",
       "      <th>75%</th>\n",
       "      <td>66.000000</td>\n",
       "      <td>80000.000000</td>\n",
       "    </tr>\n",
       "    <tr>\n",
       "      <th>max</th>\n",
       "      <td>101.000000</td>\n",
       "      <td>120000.000000</td>\n",
       "    </tr>\n",
       "  </tbody>\n",
       "</table>\n",
       "</div>"
      ],
      "text/plain": [
       "                age         income\n",
       "count  14825.000000   14825.000000\n",
       "mean      54.393524   65404.991568\n",
       "std       17.383705   21598.299410\n",
       "min       18.000000   30000.000000\n",
       "25%       42.000000   49000.000000\n",
       "50%       55.000000   64000.000000\n",
       "75%       66.000000   80000.000000\n",
       "max      101.000000  120000.000000"
      ]
     },
     "execution_count": 25,
     "metadata": {},
     "output_type": "execute_result"
    }
   ],
   "source": [
    "profile.describe()"
   ]
  },
  {
   "cell_type": "code",
   "execution_count": 26,
   "metadata": {},
   "outputs": [
    {
     "data": {
      "image/png": "[encoded data removed]",
      "text/plain": [
       "<Figure size 432x288 with 1 Axes>"
      ]
     },
     "metadata": {
      "needs_background": "light"
     },
     "output_type": "display_data"
    }
   ],
   "source": [
    "profile.groupby('age')['age'].count().plot(marker='o', linestyle='None',color='g')\n",
    "plt.title(\"Age distribution of customers including value 118\")\n",
    "plt.grid(True)\n",
    "plt.ylabel('nº of customers');\n"
   ]
  },
  {
   "cell_type": "code",
   "execution_count": 27,
   "metadata": {},
   "outputs": [
    {
     "data": {
      "image/png": "[encoded data removed]",
      "text/plain": [
       "<Figure size 432x288 with 1 Axes>"
      ]
     },
     "metadata": {
      "needs_background": "light"
     },
     "output_type": "display_data"
    }
   ],
   "source": [
    "\n",
    "profile['income'].hist(bins=20)\n",
    "plt.title('Income Histogram of customers')\n",
    "plt.ylabel('Nº of Customers')\n",
    "plt.xlabel('Income');"
   ]
  },
  {
   "cell_type": "code",
   "execution_count": 28,
   "metadata": {},
   "outputs": [
    {
     "data": {
      "image/png": "[encoded data removed]",
      "text/plain": [
       "<Figure size 432x288 with 1 Axes>"
      ]
     },
     "metadata": {
      "needs_background": "light"
     },
     "output_type": "display_data"
    }
   ],
   "source": [
    "profile['gender'].value_counts().plot(kind='bar')\n",
    "plt.title('Gender distribution')\n",
    "plt.ylabel('Nº of Customers')\n",
    "plt.xlabel('Gender');"
   ]
  },
  {
   "cell_type": "code",
   "execution_count": 29,
   "metadata": {},
   "outputs": [
    {
     "data": {
      "image/png": "[encoded data removed]",
      "text/plain": [
       "<Figure size 432x288 with 1 Axes>"
      ]
     },
     "metadata": {
      "needs_background": "light"
     },
     "output_type": "display_data"
    }
   ],
   "source": [
    "profile.groupby(profile.became_member_on.dt.year).count()['became_member_on'].plot(kind='bar')\n",
    "plt.title('Becamse member on distribution')\n",
    "plt.ylabel('Nº of Customers')\n",
    "plt.xlabel('Year became member');"
   ]
  },
  {
   "cell_type": "code",
   "execution_count": 30,
   "metadata": {},
   "outputs": [],
   "source": [
    "dummys_gender_df = pd.get_dummies(profile['gender'],prefix=\"gender\")"
   ]
  },
  {
   "cell_type": "code",
   "execution_count": 31,
   "metadata": {},
   "outputs": [],
   "source": [
    "date_now = datetime.datetime.now().date()"
   ]
  },
  {
   "cell_type": "code",
   "execution_count": 32,
   "metadata": {},
   "outputs": [],
   "source": [
    "profile['customer_loyalty_days'] = (date_now - profile['became_member_on'].dt.date)"
   ]
  },
  {
   "cell_type": "code",
   "execution_count": 33,
   "metadata": {},
   "outputs": [],
   "source": [
    "profile = pd.concat([profile, dummys_gender_df], axis=1)\n",
    "profile.drop(columns='gender',inplace=True)\n",
    "profile.drop(columns='became_member_on',inplace=True)"
   ]
  },
  {
   "cell_type": "code",
   "execution_count": 34,
   "metadata": {},
   "outputs": [
    {
     "data": {
      "text/html": [
       "<div>\n",
       "<style scoped>\n",
       "    .dataframe tbody tr th:only-of-type {\n",
       "        vertical-align: middle;\n",
       "    }\n",
       "\n",
       "    .dataframe tbody tr th {\n",
       "        vertical-align: top;\n",
       "    }\n",
       "\n",
       "    .dataframe thead th {\n",
       "        text-align: right;\n",
       "    }\n",
       "</style>\n",
       "<table border=\"1\" class=\"dataframe\">\n",
       "  <thead>\n",
       "    <tr style=\"text-align: right;\">\n",
       "      <th></th>\n",
       "      <th>age</th>\n",
       "      <th>customer_id</th>\n",
       "      <th>income</th>\n",
       "      <th>customer_loyalty_days</th>\n",
       "      <th>gender_F</th>\n",
       "      <th>gender_M</th>\n",
       "      <th>gender_O</th>\n",
       "    </tr>\n",
       "  </thead>\n",
       "  <tbody>\n",
       "    <tr>\n",
       "      <th>1</th>\n",
       "      <td>55</td>\n",
       "      <td>0610b486422d4921ae7d2bf64640c50b</td>\n",
       "      <td>112000.0</td>\n",
       "      <td>2132 days</td>\n",
       "      <td>1</td>\n",
       "      <td>0</td>\n",
       "      <td>0</td>\n",
       "    </tr>\n",
       "    <tr>\n",
       "      <th>3</th>\n",
       "      <td>75</td>\n",
       "      <td>78afa995795e4d85b5d9ceeca43f5fef</td>\n",
       "      <td>100000.0</td>\n",
       "      <td>2199 days</td>\n",
       "      <td>1</td>\n",
       "      <td>0</td>\n",
       "      <td>0</td>\n",
       "    </tr>\n",
       "    <tr>\n",
       "      <th>5</th>\n",
       "      <td>68</td>\n",
       "      <td>e2127556f4f64592b11af22de27a7932</td>\n",
       "      <td>70000.0</td>\n",
       "      <td>1847 days</td>\n",
       "      <td>0</td>\n",
       "      <td>1</td>\n",
       "      <td>0</td>\n",
       "    </tr>\n",
       "    <tr>\n",
       "      <th>8</th>\n",
       "      <td>65</td>\n",
       "      <td>389bc3fa690240e798340f5a15918d5c</td>\n",
       "      <td>53000.0</td>\n",
       "      <td>1923 days</td>\n",
       "      <td>0</td>\n",
       "      <td>1</td>\n",
       "      <td>0</td>\n",
       "    </tr>\n",
       "    <tr>\n",
       "      <th>12</th>\n",
       "      <td>58</td>\n",
       "      <td>2eeac8d8feae4a8cad5a6af0499a211d</td>\n",
       "      <td>51000.0</td>\n",
       "      <td>2013 days</td>\n",
       "      <td>0</td>\n",
       "      <td>1</td>\n",
       "      <td>0</td>\n",
       "    </tr>\n",
       "    <tr>\n",
       "      <th>...</th>\n",
       "      <td>...</td>\n",
       "      <td>...</td>\n",
       "      <td>...</td>\n",
       "      <td>...</td>\n",
       "      <td>...</td>\n",
       "      <td>...</td>\n",
       "      <td>...</td>\n",
       "    </tr>\n",
       "    <tr>\n",
       "      <th>16995</th>\n",
       "      <td>45</td>\n",
       "      <td>6d5f3a774f3d4714ab0c092238f3a1d7</td>\n",
       "      <td>54000.0</td>\n",
       "      <td>1808 days</td>\n",
       "      <td>1</td>\n",
       "      <td>0</td>\n",
       "      <td>0</td>\n",
       "    </tr>\n",
       "    <tr>\n",
       "      <th>16996</th>\n",
       "      <td>61</td>\n",
       "      <td>2cb4f97358b841b9a9773a7aa05a9d77</td>\n",
       "      <td>72000.0</td>\n",
       "      <td>1769 days</td>\n",
       "      <td>0</td>\n",
       "      <td>1</td>\n",
       "      <td>0</td>\n",
       "    </tr>\n",
       "    <tr>\n",
       "      <th>16997</th>\n",
       "      <td>49</td>\n",
       "      <td>01d26f638c274aa0b965d24cefe3183f</td>\n",
       "      <td>73000.0</td>\n",
       "      <td>2302 days</td>\n",
       "      <td>0</td>\n",
       "      <td>1</td>\n",
       "      <td>0</td>\n",
       "    </tr>\n",
       "    <tr>\n",
       "      <th>16998</th>\n",
       "      <td>83</td>\n",
       "      <td>9dc1421481194dcd9400aec7c9ae6366</td>\n",
       "      <td>50000.0</td>\n",
       "      <td>2627 days</td>\n",
       "      <td>1</td>\n",
       "      <td>0</td>\n",
       "      <td>0</td>\n",
       "    </tr>\n",
       "    <tr>\n",
       "      <th>16999</th>\n",
       "      <td>62</td>\n",
       "      <td>e4052622e5ba45a8b96b59aba68cf068</td>\n",
       "      <td>82000.0</td>\n",
       "      <td>2125 days</td>\n",
       "      <td>1</td>\n",
       "      <td>0</td>\n",
       "      <td>0</td>\n",
       "    </tr>\n",
       "  </tbody>\n",
       "</table>\n",
       "<p>14825 rows × 7 columns</p>\n",
       "</div>"
      ],
      "text/plain": [
       "       age                       customer_id    income customer_loyalty_days  \\\n",
       "1       55  0610b486422d4921ae7d2bf64640c50b  112000.0             2132 days   \n",
       "3       75  78afa995795e4d85b5d9ceeca43f5fef  100000.0             2199 days   \n",
       "5       68  e2127556f4f64592b11af22de27a7932   70000.0             1847 days   \n",
       "8       65  389bc3fa690240e798340f5a15918d5c   53000.0             1923 days   \n",
       "12      58  2eeac8d8feae4a8cad5a6af0499a211d   51000.0             2013 days   \n",
       "...    ...                               ...       ...                   ...   \n",
       "16995   45  6d5f3a774f3d4714ab0c092238f3a1d7   54000.0             1808 days   \n",
       "16996   61  2cb4f97358b841b9a9773a7aa05a9d77   72000.0             1769 days   \n",
       "16997   49  01d26f638c274aa0b965d24cefe3183f   73000.0             2302 days   \n",
       "16998   83  9dc1421481194dcd9400aec7c9ae6366   50000.0             2627 days   \n",
       "16999   62  e4052622e5ba45a8b96b59aba68cf068   82000.0             2125 days   \n",
       "\n",
       "       gender_F  gender_M  gender_O  \n",
       "1             1         0         0  \n",
       "3             1         0         0  \n",
       "5             0         1         0  \n",
       "8             0         1         0  \n",
       "12            0         1         0  \n",
       "...         ...       ...       ...  \n",
       "16995         1         0         0  \n",
       "16996         0         1         0  \n",
       "16997         0         1         0  \n",
       "16998         1         0         0  \n",
       "16999         1         0         0  \n",
       "\n",
       "[14825 rows x 7 columns]"
      ]
     },
     "execution_count": 34,
     "metadata": {},
     "output_type": "execute_result"
    }
   ],
   "source": [
    "profile"
   ]
  },
  {
   "cell_type": "markdown",
   "metadata": {},
   "source": [
    "Transcript Dataset"
   ]
  },
  {
   "cell_type": "code",
   "execution_count": 35,
   "metadata": {},
   "outputs": [
    {
     "data": {
      "text/html": [
       "<div>\n",
       "<style scoped>\n",
       "    .dataframe tbody tr th:only-of-type {\n",
       "        vertical-align: middle;\n",
       "    }\n",
       "\n",
       "    .dataframe tbody tr th {\n",
       "        vertical-align: top;\n",
       "    }\n",
       "\n",
       "    .dataframe thead th {\n",
       "        text-align: right;\n",
       "    }\n",
       "</style>\n",
       "<table border=\"1\" class=\"dataframe\">\n",
       "  <thead>\n",
       "    <tr style=\"text-align: right;\">\n",
       "      <th></th>\n",
       "      <th>person</th>\n",
       "      <th>event</th>\n",
       "      <th>value</th>\n",
       "      <th>time</th>\n",
       "    </tr>\n",
       "  </thead>\n",
       "  <tbody>\n",
       "    <tr>\n",
       "      <th>0</th>\n",
       "      <td>78afa995795e4d85b5d9ceeca43f5fef</td>\n",
       "      <td>offer received</td>\n",
       "      <td>{'offer id': '9b98b8c7a33c4b65b9aebfe6a799e6d9'}</td>\n",
       "      <td>0</td>\n",
       "    </tr>\n",
       "    <tr>\n",
       "      <th>1</th>\n",
       "      <td>a03223e636434f42ac4c3df47e8bac43</td>\n",
       "      <td>offer received</td>\n",
       "      <td>{'offer id': '0b1e1539f2cc45b7b9fa7c272da2e1d7'}</td>\n",
       "      <td>0</td>\n",
       "    </tr>\n",
       "    <tr>\n",
       "      <th>2</th>\n",
       "      <td>e2127556f4f64592b11af22de27a7932</td>\n",
       "      <td>offer received</td>\n",
       "      <td>{'offer id': '2906b810c7d4411798c6938adc9daaa5'}</td>\n",
       "      <td>0</td>\n",
       "    </tr>\n",
       "    <tr>\n",
       "      <th>3</th>\n",
       "      <td>8ec6ce2a7e7949b1bf142def7d0e0586</td>\n",
       "      <td>offer received</td>\n",
       "      <td>{'offer id': 'fafdcd668e3743c1bb461111dcafc2a4'}</td>\n",
       "      <td>0</td>\n",
       "    </tr>\n",
       "    <tr>\n",
       "      <th>4</th>\n",
       "      <td>68617ca6246f4fbc85e91a2a49552598</td>\n",
       "      <td>offer received</td>\n",
       "      <td>{'offer id': '4d5c57ea9a6940dd891ad53e9dbe8da0'}</td>\n",
       "      <td>0</td>\n",
       "    </tr>\n",
       "  </tbody>\n",
       "</table>\n",
       "</div>"
      ],
      "text/plain": [
       "                             person           event  \\\n",
       "0  78afa995795e4d85b5d9ceeca43f5fef  offer received   \n",
       "1  a03223e636434f42ac4c3df47e8bac43  offer received   \n",
       "2  e2127556f4f64592b11af22de27a7932  offer received   \n",
       "3  8ec6ce2a7e7949b1bf142def7d0e0586  offer received   \n",
       "4  68617ca6246f4fbc85e91a2a49552598  offer received   \n",
       "\n",
       "                                              value  time  \n",
       "0  {'offer id': '9b98b8c7a33c4b65b9aebfe6a799e6d9'}     0  \n",
       "1  {'offer id': '0b1e1539f2cc45b7b9fa7c272da2e1d7'}     0  \n",
       "2  {'offer id': '2906b810c7d4411798c6938adc9daaa5'}     0  \n",
       "3  {'offer id': 'fafdcd668e3743c1bb461111dcafc2a4'}     0  \n",
       "4  {'offer id': '4d5c57ea9a6940dd891ad53e9dbe8da0'}     0  "
      ]
     },
     "execution_count": 35,
     "metadata": {},
     "output_type": "execute_result"
    }
   ],
   "source": [
    "transcript.head()"
   ]
  },
  {
   "cell_type": "code",
   "execution_count": 36,
   "metadata": {},
   "outputs": [
    {
     "data": {
      "text/plain": [
       "(306534, 4)"
      ]
     },
     "execution_count": 36,
     "metadata": {},
     "output_type": "execute_result"
    }
   ],
   "source": [
    "transcript.shape"
   ]
  },
  {
   "cell_type": "code",
   "execution_count": 37,
   "metadata": {},
   "outputs": [
    {
     "name": "stdout",
     "output_type": "stream",
     "text": [
      "<class 'pandas.core.frame.DataFrame'>\n",
      "RangeIndex: 306534 entries, 0 to 306533\n",
      "Data columns (total 4 columns):\n",
      " #   Column  Non-Null Count   Dtype \n",
      "---  ------  --------------   ----- \n",
      " 0   person  306534 non-null  object\n",
      " 1   event   306534 non-null  object\n",
      " 2   value   306534 non-null  object\n",
      " 3   time    306534 non-null  int64 \n",
      "dtypes: int64(1), object(3)\n",
      "memory usage: 9.4+ MB\n"
     ]
    }
   ],
   "source": [
    "transcript.info()"
   ]
  },
  {
   "cell_type": "code",
   "execution_count": 38,
   "metadata": {},
   "outputs": [
    {
     "data": {
      "text/html": [
       "<div>\n",
       "<style scoped>\n",
       "    .dataframe tbody tr th:only-of-type {\n",
       "        vertical-align: middle;\n",
       "    }\n",
       "\n",
       "    .dataframe tbody tr th {\n",
       "        vertical-align: top;\n",
       "    }\n",
       "\n",
       "    .dataframe thead th {\n",
       "        text-align: right;\n",
       "    }\n",
       "</style>\n",
       "<table border=\"1\" class=\"dataframe\">\n",
       "  <thead>\n",
       "    <tr style=\"text-align: right;\">\n",
       "      <th></th>\n",
       "      <th>time</th>\n",
       "    </tr>\n",
       "  </thead>\n",
       "  <tbody>\n",
       "    <tr>\n",
       "      <th>count</th>\n",
       "      <td>306534.000000</td>\n",
       "    </tr>\n",
       "    <tr>\n",
       "      <th>mean</th>\n",
       "      <td>366.382940</td>\n",
       "    </tr>\n",
       "    <tr>\n",
       "      <th>std</th>\n",
       "      <td>200.326314</td>\n",
       "    </tr>\n",
       "    <tr>\n",
       "      <th>min</th>\n",
       "      <td>0.000000</td>\n",
       "    </tr>\n",
       "    <tr>\n",
       "      <th>25%</th>\n",
       "      <td>186.000000</td>\n",
       "    </tr>\n",
       "    <tr>\n",
       "      <th>50%</th>\n",
       "      <td>408.000000</td>\n",
       "    </tr>\n",
       "    <tr>\n",
       "      <th>75%</th>\n",
       "      <td>528.000000</td>\n",
       "    </tr>\n",
       "    <tr>\n",
       "      <th>max</th>\n",
       "      <td>714.000000</td>\n",
       "    </tr>\n",
       "  </tbody>\n",
       "</table>\n",
       "</div>"
      ],
      "text/plain": [
       "                time\n",
       "count  306534.000000\n",
       "mean      366.382940\n",
       "std       200.326314\n",
       "min         0.000000\n",
       "25%       186.000000\n",
       "50%       408.000000\n",
       "75%       528.000000\n",
       "max       714.000000"
      ]
     },
     "execution_count": 38,
     "metadata": {},
     "output_type": "execute_result"
    }
   ],
   "source": [
    "transcript.describe()"
   ]
  },
  {
   "cell_type": "code",
   "execution_count": 39,
   "metadata": {},
   "outputs": [
    {
     "data": {
      "text/plain": [
       "transaction        138953\n",
       "offer received      76277\n",
       "offer viewed        57725\n",
       "offer completed     33579\n",
       "Name: event, dtype: int64"
      ]
     },
     "execution_count": 39,
     "metadata": {},
     "output_type": "execute_result"
    }
   ],
   "source": [
    "transcript['event'].value_counts()"
   ]
  },
  {
   "cell_type": "code",
   "execution_count": 40,
   "metadata": {},
   "outputs": [
    {
     "data": {
      "image/png": "[encoded data removed]",
      "text/plain": [
       "<Figure size 432x288 with 1 Axes>"
      ]
     },
     "metadata": {
      "needs_background": "light"
     },
     "output_type": "display_data"
    }
   ],
   "source": [
    "transcript['event'].value_counts().plot(kind='bar')\n",
    "plt.title('Event distribution')\n",
    "plt.ylabel('count')\n",
    "plt.xlabel('Event type');"
   ]
  },
  {
   "cell_type": "markdown",
   "metadata": {},
   "source": [
    "Initially I will perform two operations for cleaning the transcript.json data:\n",
    "1) Change the column person to customer_id \\\n",
    "2) Get dummies for the event column but before doing so replace the string to have a underscore so instead of \"offer completed\" for example it is \"offer_completed\" \\\n",
    "3) Separate the value column into 3 different columns, offer_id which could be names as \"offer_id\" or \"offer id\", \"amount\" and \"reward\". \\\n",
    "4) Add a prefix to the reward column to make sure it is represented as the reward transcript column\n"
   ]
  },
  {
   "cell_type": "code",
   "execution_count": 41,
   "metadata": {},
   "outputs": [],
   "source": [
    "transcript['event'] = transcript['event'].str.replace(' ', '_')\n"
   ]
  },
  {
   "cell_type": "code",
   "execution_count": 42,
   "metadata": {},
   "outputs": [],
   "source": [
    "dummys_transcript_event_df = pd.get_dummies(transcript['event'],prefix=\"event\")"
   ]
  },
  {
   "cell_type": "code",
   "execution_count": 43,
   "metadata": {},
   "outputs": [],
   "source": [
    "offer_id_col = []\n",
    "for row in transcript['value']:\n",
    "    if list(row.keys())[0] in ['offer id','offer_id']:\n",
    "        offer_id_col.append(list(row.values())[0])\n",
    "    else:\n",
    "        offer_id_col.append(None)"
   ]
  },
  {
   "cell_type": "code",
   "execution_count": 44,
   "metadata": {},
   "outputs": [
    {
     "data": {
      "text/plain": [
       "306534"
      ]
     },
     "execution_count": 44,
     "metadata": {},
     "output_type": "execute_result"
    }
   ],
   "source": [
    "len(offer_id_col)"
   ]
  },
  {
   "cell_type": "code",
   "execution_count": 45,
   "metadata": {},
   "outputs": [],
   "source": [
    "amount_col = []\n",
    "for row in transcript['value']:\n",
    "    if list(row.keys())[0] == 'amount':\n",
    "        amount_col.append(np.round(list(row.values())[0], decimals=2))\n",
    "    else:\n",
    "        amount_col.append(None)"
   ]
  },
  {
   "cell_type": "code",
   "execution_count": 46,
   "metadata": {},
   "outputs": [
    {
     "data": {
      "text/plain": [
       "306534"
      ]
     },
     "execution_count": 46,
     "metadata": {},
     "output_type": "execute_result"
    }
   ],
   "source": [
    "len(amount_col)"
   ]
  },
  {
   "cell_type": "code",
   "execution_count": 47,
   "metadata": {},
   "outputs": [],
   "source": [
    "reward_col = []\n",
    "for row in transcript['value']:\n",
    "    if len(list(row.keys()))>1 and list(row.keys())[1] == 'reward':\n",
    "        reward_col.append(np.round(list(row.values())[1], decimals=2))\n",
    "    else:\n",
    "        reward_col.append(None)"
   ]
  },
  {
   "cell_type": "code",
   "execution_count": 48,
   "metadata": {},
   "outputs": [
    {
     "data": {
      "text/plain": [
       "306534"
      ]
     },
     "execution_count": 48,
     "metadata": {},
     "output_type": "execute_result"
    }
   ],
   "source": [
    "len(reward_col)"
   ]
  },
  {
   "cell_type": "code",
   "execution_count": 49,
   "metadata": {},
   "outputs": [],
   "source": [
    "transcript['offer_id'] = offer_id_col\n",
    "transcript['amount'] = amount_col\n",
    "transcript['reward'] = reward_col\n",
    "transcript = pd.concat([transcript, dummys_transcript_event_df], axis=1)\n",
    "transcript.drop(columns='value',inplace=True)\n",
    "transcript.drop(columns='event',inplace=True)"
   ]
  },
  {
   "cell_type": "code",
   "execution_count": 50,
   "metadata": {},
   "outputs": [],
   "source": [
    "transcript.rename(columns = {'person':'customer_id'}, inplace = True)"
   ]
  },
  {
   "cell_type": "code",
   "execution_count": 51,
   "metadata": {},
   "outputs": [],
   "source": [
    "transcript.rename(columns = {'reward':'transcript_reward'}, inplace = True)"
   ]
  },
  {
   "cell_type": "code",
   "execution_count": 52,
   "metadata": {},
   "outputs": [
    {
     "data": {
      "text/html": [
       "<div>\n",
       "<style scoped>\n",
       "    .dataframe tbody tr th:only-of-type {\n",
       "        vertical-align: middle;\n",
       "    }\n",
       "\n",
       "    .dataframe tbody tr th {\n",
       "        vertical-align: top;\n",
       "    }\n",
       "\n",
       "    .dataframe thead th {\n",
       "        text-align: right;\n",
       "    }\n",
       "</style>\n",
       "<table border=\"1\" class=\"dataframe\">\n",
       "  <thead>\n",
       "    <tr style=\"text-align: right;\">\n",
       "      <th></th>\n",
       "      <th>customer_id</th>\n",
       "      <th>time</th>\n",
       "      <th>offer_id</th>\n",
       "      <th>amount</th>\n",
       "      <th>transcript_reward</th>\n",
       "      <th>event_offer_completed</th>\n",
       "      <th>event_offer_received</th>\n",
       "      <th>event_offer_viewed</th>\n",
       "      <th>event_transaction</th>\n",
       "    </tr>\n",
       "  </thead>\n",
       "  <tbody>\n",
       "    <tr>\n",
       "      <th>0</th>\n",
       "      <td>78afa995795e4d85b5d9ceeca43f5fef</td>\n",
       "      <td>0</td>\n",
       "      <td>9b98b8c7a33c4b65b9aebfe6a799e6d9</td>\n",
       "      <td>NaN</td>\n",
       "      <td>NaN</td>\n",
       "      <td>0</td>\n",
       "      <td>1</td>\n",
       "      <td>0</td>\n",
       "      <td>0</td>\n",
       "    </tr>\n",
       "    <tr>\n",
       "      <th>1</th>\n",
       "      <td>a03223e636434f42ac4c3df47e8bac43</td>\n",
       "      <td>0</td>\n",
       "      <td>0b1e1539f2cc45b7b9fa7c272da2e1d7</td>\n",
       "      <td>NaN</td>\n",
       "      <td>NaN</td>\n",
       "      <td>0</td>\n",
       "      <td>1</td>\n",
       "      <td>0</td>\n",
       "      <td>0</td>\n",
       "    </tr>\n",
       "    <tr>\n",
       "      <th>2</th>\n",
       "      <td>e2127556f4f64592b11af22de27a7932</td>\n",
       "      <td>0</td>\n",
       "      <td>2906b810c7d4411798c6938adc9daaa5</td>\n",
       "      <td>NaN</td>\n",
       "      <td>NaN</td>\n",
       "      <td>0</td>\n",
       "      <td>1</td>\n",
       "      <td>0</td>\n",
       "      <td>0</td>\n",
       "    </tr>\n",
       "    <tr>\n",
       "      <th>3</th>\n",
       "      <td>8ec6ce2a7e7949b1bf142def7d0e0586</td>\n",
       "      <td>0</td>\n",
       "      <td>fafdcd668e3743c1bb461111dcafc2a4</td>\n",
       "      <td>NaN</td>\n",
       "      <td>NaN</td>\n",
       "      <td>0</td>\n",
       "      <td>1</td>\n",
       "      <td>0</td>\n",
       "      <td>0</td>\n",
       "    </tr>\n",
       "    <tr>\n",
       "      <th>4</th>\n",
       "      <td>68617ca6246f4fbc85e91a2a49552598</td>\n",
       "      <td>0</td>\n",
       "      <td>4d5c57ea9a6940dd891ad53e9dbe8da0</td>\n",
       "      <td>NaN</td>\n",
       "      <td>NaN</td>\n",
       "      <td>0</td>\n",
       "      <td>1</td>\n",
       "      <td>0</td>\n",
       "      <td>0</td>\n",
       "    </tr>\n",
       "    <tr>\n",
       "      <th>...</th>\n",
       "      <td>...</td>\n",
       "      <td>...</td>\n",
       "      <td>...</td>\n",
       "      <td>...</td>\n",
       "      <td>...</td>\n",
       "      <td>...</td>\n",
       "      <td>...</td>\n",
       "      <td>...</td>\n",
       "      <td>...</td>\n",
       "    </tr>\n",
       "    <tr>\n",
       "      <th>306529</th>\n",
       "      <td>b3a1272bc9904337b331bf348c3e8c17</td>\n",
       "      <td>714</td>\n",
       "      <td>None</td>\n",
       "      <td>1.59</td>\n",
       "      <td>NaN</td>\n",
       "      <td>0</td>\n",
       "      <td>0</td>\n",
       "      <td>0</td>\n",
       "      <td>1</td>\n",
       "    </tr>\n",
       "    <tr>\n",
       "      <th>306530</th>\n",
       "      <td>68213b08d99a4ae1b0dcb72aebd9aa35</td>\n",
       "      <td>714</td>\n",
       "      <td>None</td>\n",
       "      <td>9.53</td>\n",
       "      <td>NaN</td>\n",
       "      <td>0</td>\n",
       "      <td>0</td>\n",
       "      <td>0</td>\n",
       "      <td>1</td>\n",
       "    </tr>\n",
       "    <tr>\n",
       "      <th>306531</th>\n",
       "      <td>a00058cf10334a308c68e7631c529907</td>\n",
       "      <td>714</td>\n",
       "      <td>None</td>\n",
       "      <td>3.61</td>\n",
       "      <td>NaN</td>\n",
       "      <td>0</td>\n",
       "      <td>0</td>\n",
       "      <td>0</td>\n",
       "      <td>1</td>\n",
       "    </tr>\n",
       "    <tr>\n",
       "      <th>306532</th>\n",
       "      <td>76ddbd6576844afe811f1a3c0fbb5bec</td>\n",
       "      <td>714</td>\n",
       "      <td>None</td>\n",
       "      <td>3.53</td>\n",
       "      <td>NaN</td>\n",
       "      <td>0</td>\n",
       "      <td>0</td>\n",
       "      <td>0</td>\n",
       "      <td>1</td>\n",
       "    </tr>\n",
       "    <tr>\n",
       "      <th>306533</th>\n",
       "      <td>c02b10e8752c4d8e9b73f918558531f7</td>\n",
       "      <td>714</td>\n",
       "      <td>None</td>\n",
       "      <td>4.05</td>\n",
       "      <td>NaN</td>\n",
       "      <td>0</td>\n",
       "      <td>0</td>\n",
       "      <td>0</td>\n",
       "      <td>1</td>\n",
       "    </tr>\n",
       "  </tbody>\n",
       "</table>\n",
       "<p>306534 rows × 9 columns</p>\n",
       "</div>"
      ],
      "text/plain": [
       "                             customer_id  time  \\\n",
       "0       78afa995795e4d85b5d9ceeca43f5fef     0   \n",
       "1       a03223e636434f42ac4c3df47e8bac43     0   \n",
       "2       e2127556f4f64592b11af22de27a7932     0   \n",
       "3       8ec6ce2a7e7949b1bf142def7d0e0586     0   \n",
       "4       68617ca6246f4fbc85e91a2a49552598     0   \n",
       "...                                  ...   ...   \n",
       "306529  b3a1272bc9904337b331bf348c3e8c17   714   \n",
       "306530  68213b08d99a4ae1b0dcb72aebd9aa35   714   \n",
       "306531  a00058cf10334a308c68e7631c529907   714   \n",
       "306532  76ddbd6576844afe811f1a3c0fbb5bec   714   \n",
       "306533  c02b10e8752c4d8e9b73f918558531f7   714   \n",
       "\n",
       "                                offer_id  amount  transcript_reward  \\\n",
       "0       9b98b8c7a33c4b65b9aebfe6a799e6d9     NaN                NaN   \n",
       "1       0b1e1539f2cc45b7b9fa7c272da2e1d7     NaN                NaN   \n",
       "2       2906b810c7d4411798c6938adc9daaa5     NaN                NaN   \n",
       "3       fafdcd668e3743c1bb461111dcafc2a4     NaN                NaN   \n",
       "4       4d5c57ea9a6940dd891ad53e9dbe8da0     NaN                NaN   \n",
       "...                                  ...     ...                ...   \n",
       "306529                              None    1.59                NaN   \n",
       "306530                              None    9.53                NaN   \n",
       "306531                              None    3.61                NaN   \n",
       "306532                              None    3.53                NaN   \n",
       "306533                              None    4.05                NaN   \n",
       "\n",
       "        event_offer_completed  event_offer_received  event_offer_viewed  \\\n",
       "0                           0                     1                   0   \n",
       "1                           0                     1                   0   \n",
       "2                           0                     1                   0   \n",
       "3                           0                     1                   0   \n",
       "4                           0                     1                   0   \n",
       "...                       ...                   ...                 ...   \n",
       "306529                      0                     0                   0   \n",
       "306530                      0                     0                   0   \n",
       "306531                      0                     0                   0   \n",
       "306532                      0                     0                   0   \n",
       "306533                      0                     0                   0   \n",
       "\n",
       "        event_transaction  \n",
       "0                       0  \n",
       "1                       0  \n",
       "2                       0  \n",
       "3                       0  \n",
       "4                       0  \n",
       "...                   ...  \n",
       "306529                  1  \n",
       "306530                  1  \n",
       "306531                  1  \n",
       "306532                  1  \n",
       "306533                  1  \n",
       "\n",
       "[306534 rows x 9 columns]"
      ]
     },
     "execution_count": 52,
     "metadata": {},
     "output_type": "execute_result"
    }
   ],
   "source": [
    "transcript"
   ]
  },
  {
   "cell_type": "markdown",
   "metadata": {},
   "source": [
    "__Data Analysis__"
   ]
  },
  {
   "cell_type": "code",
   "execution_count": 53,
   "metadata": {},
   "outputs": [
    {
     "data": {
      "text/html": [
       "<div>\n",
       "<style scoped>\n",
       "    .dataframe tbody tr th:only-of-type {\n",
       "        vertical-align: middle;\n",
       "    }\n",
       "\n",
       "    .dataframe tbody tr th {\n",
       "        vertical-align: top;\n",
       "    }\n",
       "\n",
       "    .dataframe thead th {\n",
       "        text-align: right;\n",
       "    }\n",
       "</style>\n",
       "<table border=\"1\" class=\"dataframe\">\n",
       "  <thead>\n",
       "    <tr style=\"text-align: right;\">\n",
       "      <th></th>\n",
       "      <th>time</th>\n",
       "      <th>amount</th>\n",
       "      <th>transcript_reward</th>\n",
       "      <th>event_offer_completed</th>\n",
       "      <th>event_offer_received</th>\n",
       "      <th>event_offer_viewed</th>\n",
       "      <th>event_transaction</th>\n",
       "    </tr>\n",
       "    <tr>\n",
       "      <th>offer_id</th>\n",
       "      <th></th>\n",
       "      <th></th>\n",
       "      <th></th>\n",
       "      <th></th>\n",
       "      <th></th>\n",
       "      <th></th>\n",
       "      <th></th>\n",
       "    </tr>\n",
       "  </thead>\n",
       "  <tbody>\n",
       "    <tr>\n",
       "      <th>0b1e1539f2cc45b7b9fa7c272da2e1d7</th>\n",
       "      <td>4993236</td>\n",
       "      <td>0.0</td>\n",
       "      <td>17100.0</td>\n",
       "      <td>3420.0</td>\n",
       "      <td>7668.0</td>\n",
       "      <td>2663.0</td>\n",
       "      <td>0.0</td>\n",
       "    </tr>\n",
       "    <tr>\n",
       "      <th>2298d6c36e964ae4a3e7e9706d1fb8c2</th>\n",
       "      <td>7238778</td>\n",
       "      <td>0.0</td>\n",
       "      <td>15468.0</td>\n",
       "      <td>5156.0</td>\n",
       "      <td>7646.0</td>\n",
       "      <td>7337.0</td>\n",
       "      <td>0.0</td>\n",
       "    </tr>\n",
       "    <tr>\n",
       "      <th>2906b810c7d4411798c6938adc9daaa5</th>\n",
       "      <td>5647476</td>\n",
       "      <td>0.0</td>\n",
       "      <td>8034.0</td>\n",
       "      <td>4017.0</td>\n",
       "      <td>7632.0</td>\n",
       "      <td>4118.0</td>\n",
       "      <td>0.0</td>\n",
       "    </tr>\n",
       "    <tr>\n",
       "      <th>3f207df678b143eea3cee63160fa8bed</th>\n",
       "      <td>4014168</td>\n",
       "      <td>0.0</td>\n",
       "      <td>0.0</td>\n",
       "      <td>0.0</td>\n",
       "      <td>7617.0</td>\n",
       "      <td>4144.0</td>\n",
       "      <td>0.0</td>\n",
       "    </tr>\n",
       "    <tr>\n",
       "      <th>4d5c57ea9a6940dd891ad53e9dbe8da0</th>\n",
       "      <td>6406716</td>\n",
       "      <td>0.0</td>\n",
       "      <td>33310.0</td>\n",
       "      <td>3331.0</td>\n",
       "      <td>7593.0</td>\n",
       "      <td>7298.0</td>\n",
       "      <td>0.0</td>\n",
       "    </tr>\n",
       "    <tr>\n",
       "      <th>5a8bc65990b245e5a138643cd4eb9837</th>\n",
       "      <td>4899552</td>\n",
       "      <td>0.0</td>\n",
       "      <td>0.0</td>\n",
       "      <td>0.0</td>\n",
       "      <td>7618.0</td>\n",
       "      <td>6687.0</td>\n",
       "      <td>0.0</td>\n",
       "    </tr>\n",
       "    <tr>\n",
       "      <th>9b98b8c7a33c4b65b9aebfe6a799e6d9</th>\n",
       "      <td>5847342</td>\n",
       "      <td>0.0</td>\n",
       "      <td>21770.0</td>\n",
       "      <td>4354.0</td>\n",
       "      <td>7677.0</td>\n",
       "      <td>4171.0</td>\n",
       "      <td>0.0</td>\n",
       "    </tr>\n",
       "    <tr>\n",
       "      <th>ae264e3637204a6fb9bb56bc8210ddfd</th>\n",
       "      <td>6349416</td>\n",
       "      <td>0.0</td>\n",
       "      <td>36880.0</td>\n",
       "      <td>3688.0</td>\n",
       "      <td>7658.0</td>\n",
       "      <td>6716.0</td>\n",
       "      <td>0.0</td>\n",
       "    </tr>\n",
       "    <tr>\n",
       "      <th>f19421c1d4aa40978ebb69ca19b0e20d</th>\n",
       "      <td>6700884</td>\n",
       "      <td>0.0</td>\n",
       "      <td>21480.0</td>\n",
       "      <td>4296.0</td>\n",
       "      <td>7571.0</td>\n",
       "      <td>7264.0</td>\n",
       "      <td>0.0</td>\n",
       "    </tr>\n",
       "    <tr>\n",
       "      <th>fafdcd668e3743c1bb461111dcafc2a4</th>\n",
       "      <td>7188972</td>\n",
       "      <td>0.0</td>\n",
       "      <td>10634.0</td>\n",
       "      <td>5317.0</td>\n",
       "      <td>7597.0</td>\n",
       "      <td>7327.0</td>\n",
       "      <td>0.0</td>\n",
       "    </tr>\n",
       "  </tbody>\n",
       "</table>\n",
       "</div>"
      ],
      "text/plain": [
       "                                     time  amount  transcript_reward  \\\n",
       "offer_id                                                               \n",
       "0b1e1539f2cc45b7b9fa7c272da2e1d7  4993236     0.0            17100.0   \n",
       "2298d6c36e964ae4a3e7e9706d1fb8c2  7238778     0.0            15468.0   \n",
       "2906b810c7d4411798c6938adc9daaa5  5647476     0.0             8034.0   \n",
       "3f207df678b143eea3cee63160fa8bed  4014168     0.0                0.0   \n",
       "4d5c57ea9a6940dd891ad53e9dbe8da0  6406716     0.0            33310.0   \n",
       "5a8bc65990b245e5a138643cd4eb9837  4899552     0.0                0.0   \n",
       "9b98b8c7a33c4b65b9aebfe6a799e6d9  5847342     0.0            21770.0   \n",
       "ae264e3637204a6fb9bb56bc8210ddfd  6349416     0.0            36880.0   \n",
       "f19421c1d4aa40978ebb69ca19b0e20d  6700884     0.0            21480.0   \n",
       "fafdcd668e3743c1bb461111dcafc2a4  7188972     0.0            10634.0   \n",
       "\n",
       "                                  event_offer_completed  event_offer_received  \\\n",
       "offer_id                                                                        \n",
       "0b1e1539f2cc45b7b9fa7c272da2e1d7                 3420.0                7668.0   \n",
       "2298d6c36e964ae4a3e7e9706d1fb8c2                 5156.0                7646.0   \n",
       "2906b810c7d4411798c6938adc9daaa5                 4017.0                7632.0   \n",
       "3f207df678b143eea3cee63160fa8bed                    0.0                7617.0   \n",
       "4d5c57ea9a6940dd891ad53e9dbe8da0                 3331.0                7593.0   \n",
       "5a8bc65990b245e5a138643cd4eb9837                    0.0                7618.0   \n",
       "9b98b8c7a33c4b65b9aebfe6a799e6d9                 4354.0                7677.0   \n",
       "ae264e3637204a6fb9bb56bc8210ddfd                 3688.0                7658.0   \n",
       "f19421c1d4aa40978ebb69ca19b0e20d                 4296.0                7571.0   \n",
       "fafdcd668e3743c1bb461111dcafc2a4                 5317.0                7597.0   \n",
       "\n",
       "                                  event_offer_viewed  event_transaction  \n",
       "offer_id                                                                 \n",
       "0b1e1539f2cc45b7b9fa7c272da2e1d7              2663.0                0.0  \n",
       "2298d6c36e964ae4a3e7e9706d1fb8c2              7337.0                0.0  \n",
       "2906b810c7d4411798c6938adc9daaa5              4118.0                0.0  \n",
       "3f207df678b143eea3cee63160fa8bed              4144.0                0.0  \n",
       "4d5c57ea9a6940dd891ad53e9dbe8da0              7298.0                0.0  \n",
       "5a8bc65990b245e5a138643cd4eb9837              6687.0                0.0  \n",
       "9b98b8c7a33c4b65b9aebfe6a799e6d9              4171.0                0.0  \n",
       "ae264e3637204a6fb9bb56bc8210ddfd              6716.0                0.0  \n",
       "f19421c1d4aa40978ebb69ca19b0e20d              7264.0                0.0  \n",
       "fafdcd668e3743c1bb461111dcafc2a4              7327.0                0.0  "
      ]
     },
     "execution_count": 53,
     "metadata": {},
     "output_type": "execute_result"
    }
   ],
   "source": [
    "transcript.groupby('offer_id').sum()"
   ]
  },
  {
   "cell_type": "code",
   "execution_count": 54,
   "metadata": {},
   "outputs": [
    {
     "data": {
      "image/png": "[encoded data removed]",
      "text/plain": [
       "<Figure size 432x288 with 1 Axes>"
      ]
     },
     "metadata": {
      "needs_background": "light"
     },
     "output_type": "display_data"
    }
   ],
   "source": [
    "transcript.groupby('offer_id').sum()['event_offer_received'].plot.bar()\n",
    "plt.title('Offer received distribution')\n",
    "plt.ylabel('count')\n",
    "plt.xlabel('Offer');"
   ]
  },
  {
   "cell_type": "code",
   "execution_count": 55,
   "metadata": {},
   "outputs": [
    {
     "data": {
      "image/png": "[encoded data removed]",
      "text/plain": [
       "<Figure size 432x288 with 1 Axes>"
      ]
     },
     "metadata": {
      "needs_background": "light"
     },
     "output_type": "display_data"
    }
   ],
   "source": [
    "transcript.groupby('offer_id').sum()['event_offer_viewed'].plot(kind='bar', color='purple')\n",
    "plt.title('Offer Viewed distribution')\n",
    "plt.ylabel('count')\n",
    "plt.xlabel('Offer');"
   ]
  },
  {
   "cell_type": "code",
   "execution_count": 56,
   "metadata": {},
   "outputs": [
    {
     "data": {
      "image/png": "[encoded data removed]",
      "text/plain": [
       "<Figure size 432x288 with 1 Axes>"
      ]
     },
     "metadata": {
      "needs_background": "light"
     },
     "output_type": "display_data"
    }
   ],
   "source": [
    "transcript.groupby('offer_id').sum()['event_offer_completed'].plot(kind='bar', color='green')\n",
    "plt.title('Offer Completed distribution')\n",
    "plt.ylabel('count')\n",
    "plt.xlabel('Offer');"
   ]
  },
  {
   "cell_type": "code",
   "execution_count": 57,
   "metadata": {},
   "outputs": [
    {
     "data": {
      "image/png": "[encoded data removed]",
      "text/plain": [
       "<Figure size 432x288 with 1 Axes>"
      ]
     },
     "metadata": {
      "needs_background": "light"
     },
     "output_type": "display_data"
    }
   ],
   "source": [
    "transcript.groupby('offer_id').sum().plot(kind='bar', y=['event_offer_received','event_offer_viewed','event_offer_completed'])\n",
    "plt.title('Offer Viewed distribution')\n",
    "plt.rcParams[\"figure.figsize\"] = (30,20)\n",
    "plt.ylabel('count')\n",
    "plt.xlabel('Offer');"
   ]
  },
  {
   "cell_type": "code",
   "execution_count": 58,
   "metadata": {},
   "outputs": [
    {
     "name": "stdout",
     "output_type": "stream",
     "text": [
      "<class 'pandas.core.frame.DataFrame'>\n",
      "RangeIndex: 306534 entries, 0 to 306533\n",
      "Data columns (total 9 columns):\n",
      " #   Column                 Non-Null Count   Dtype  \n",
      "---  ------                 --------------   -----  \n",
      " 0   customer_id            306534 non-null  object \n",
      " 1   time                   306534 non-null  int64  \n",
      " 2   offer_id               167581 non-null  object \n",
      " 3   amount                 138953 non-null  float64\n",
      " 4   transcript_reward      33579 non-null   float64\n",
      " 5   event_offer_completed  306534 non-null  uint8  \n",
      " 6   event_offer_received   306534 non-null  uint8  \n",
      " 7   event_offer_viewed     306534 non-null  uint8  \n",
      " 8   event_transaction      306534 non-null  uint8  \n",
      "dtypes: float64(2), int64(1), object(2), uint8(4)\n",
      "memory usage: 12.9+ MB\n"
     ]
    }
   ],
   "source": [
    "transcript.info()"
   ]
  },
  {
   "cell_type": "code",
   "execution_count": 59,
   "metadata": {},
   "outputs": [
    {
     "name": "stdout",
     "output_type": "stream",
     "text": [
      "<class 'pandas.core.frame.DataFrame'>\n",
      "Int64Index: 14825 entries, 1 to 16999\n",
      "Data columns (total 7 columns):\n",
      " #   Column                 Non-Null Count  Dtype          \n",
      "---  ------                 --------------  -----          \n",
      " 0   age                    14825 non-null  int64          \n",
      " 1   customer_id            14825 non-null  object         \n",
      " 2   income                 14825 non-null  float64        \n",
      " 3   customer_loyalty_days  14825 non-null  timedelta64[ns]\n",
      " 4   gender_F               14825 non-null  uint8          \n",
      " 5   gender_M               14825 non-null  uint8          \n",
      " 6   gender_O               14825 non-null  uint8          \n",
      "dtypes: float64(1), int64(1), object(1), timedelta64[ns](1), uint8(3)\n",
      "memory usage: 622.5+ KB\n"
     ]
    }
   ],
   "source": [
    "profile.info()"
   ]
  },
  {
   "cell_type": "markdown",
   "metadata": {},
   "source": [
    "__Feature Engineering Amount spent before an offer is completed__"
   ]
  },
  {
   "cell_type": "code",
   "execution_count": 60,
   "metadata": {},
   "outputs": [
    {
     "data": {
      "text/html": [
       "<div>\n",
       "<style scoped>\n",
       "    .dataframe tbody tr th:only-of-type {\n",
       "        vertical-align: middle;\n",
       "    }\n",
       "\n",
       "    .dataframe tbody tr th {\n",
       "        vertical-align: top;\n",
       "    }\n",
       "\n",
       "    .dataframe thead th {\n",
       "        text-align: right;\n",
       "    }\n",
       "</style>\n",
       "<table border=\"1\" class=\"dataframe\">\n",
       "  <thead>\n",
       "    <tr style=\"text-align: right;\">\n",
       "      <th></th>\n",
       "      <th>customer_id</th>\n",
       "      <th>time</th>\n",
       "      <th>offer_id</th>\n",
       "      <th>amount</th>\n",
       "      <th>transcript_reward</th>\n",
       "      <th>event_offer_completed</th>\n",
       "      <th>event_offer_received</th>\n",
       "      <th>event_offer_viewed</th>\n",
       "      <th>event_transaction</th>\n",
       "    </tr>\n",
       "  </thead>\n",
       "  <tbody>\n",
       "    <tr>\n",
       "      <th>284273</th>\n",
       "      <td>6cf884a6c5ae4b2daccb6d3108028fef</td>\n",
       "      <td>630</td>\n",
       "      <td>None</td>\n",
       "      <td>1062.28</td>\n",
       "      <td>NaN</td>\n",
       "      <td>0</td>\n",
       "      <td>0</td>\n",
       "      <td>0</td>\n",
       "      <td>1</td>\n",
       "    </tr>\n",
       "    <tr>\n",
       "      <th>301790</th>\n",
       "      <td>454b00bdd77c4f588eb9f6cafd81dc5d</td>\n",
       "      <td>690</td>\n",
       "      <td>None</td>\n",
       "      <td>1015.73</td>\n",
       "      <td>NaN</td>\n",
       "      <td>0</td>\n",
       "      <td>0</td>\n",
       "      <td>0</td>\n",
       "      <td>1</td>\n",
       "    </tr>\n",
       "    <tr>\n",
       "      <th>42253</th>\n",
       "      <td>5ecaea5c8bf44ae4a65838d9d066c909</td>\n",
       "      <td>102</td>\n",
       "      <td>None</td>\n",
       "      <td>1001.85</td>\n",
       "      <td>NaN</td>\n",
       "      <td>0</td>\n",
       "      <td>0</td>\n",
       "      <td>0</td>\n",
       "      <td>1</td>\n",
       "    </tr>\n",
       "    <tr>\n",
       "      <th>140346</th>\n",
       "      <td>dce784e26f294101999d000fad9089bb</td>\n",
       "      <td>372</td>\n",
       "      <td>None</td>\n",
       "      <td>989.34</td>\n",
       "      <td>NaN</td>\n",
       "      <td>0</td>\n",
       "      <td>0</td>\n",
       "      <td>0</td>\n",
       "      <td>1</td>\n",
       "    </tr>\n",
       "    <tr>\n",
       "      <th>302951</th>\n",
       "      <td>52959f19113e4241a8cb3bef486c6412</td>\n",
       "      <td>696</td>\n",
       "      <td>None</td>\n",
       "      <td>977.78</td>\n",
       "      <td>NaN</td>\n",
       "      <td>0</td>\n",
       "      <td>0</td>\n",
       "      <td>0</td>\n",
       "      <td>1</td>\n",
       "    </tr>\n",
       "    <tr>\n",
       "      <th>...</th>\n",
       "      <td>...</td>\n",
       "      <td>...</td>\n",
       "      <td>...</td>\n",
       "      <td>...</td>\n",
       "      <td>...</td>\n",
       "      <td>...</td>\n",
       "      <td>...</td>\n",
       "      <td>...</td>\n",
       "      <td>...</td>\n",
       "    </tr>\n",
       "    <tr>\n",
       "      <th>306497</th>\n",
       "      <td>a6f84f4e976f44508c358cc9aba6d2b3</td>\n",
       "      <td>714</td>\n",
       "      <td>2298d6c36e964ae4a3e7e9706d1fb8c2</td>\n",
       "      <td>NaN</td>\n",
       "      <td>3.0</td>\n",
       "      <td>1</td>\n",
       "      <td>0</td>\n",
       "      <td>0</td>\n",
       "      <td>0</td>\n",
       "    </tr>\n",
       "    <tr>\n",
       "      <th>306506</th>\n",
       "      <td>b895c57e8cd047a8872ce02aa54759d6</td>\n",
       "      <td>714</td>\n",
       "      <td>fafdcd668e3743c1bb461111dcafc2a4</td>\n",
       "      <td>NaN</td>\n",
       "      <td>2.0</td>\n",
       "      <td>1</td>\n",
       "      <td>0</td>\n",
       "      <td>0</td>\n",
       "      <td>0</td>\n",
       "    </tr>\n",
       "    <tr>\n",
       "      <th>306507</th>\n",
       "      <td>8dda575c2a1d44b9ac8e8b07b93d1f8e</td>\n",
       "      <td>714</td>\n",
       "      <td>0b1e1539f2cc45b7b9fa7c272da2e1d7</td>\n",
       "      <td>NaN</td>\n",
       "      <td>NaN</td>\n",
       "      <td>0</td>\n",
       "      <td>0</td>\n",
       "      <td>1</td>\n",
       "      <td>0</td>\n",
       "    </tr>\n",
       "    <tr>\n",
       "      <th>306509</th>\n",
       "      <td>8431c16f8e1d440880db371a68f82dd0</td>\n",
       "      <td>714</td>\n",
       "      <td>fafdcd668e3743c1bb461111dcafc2a4</td>\n",
       "      <td>NaN</td>\n",
       "      <td>2.0</td>\n",
       "      <td>1</td>\n",
       "      <td>0</td>\n",
       "      <td>0</td>\n",
       "      <td>0</td>\n",
       "    </tr>\n",
       "    <tr>\n",
       "      <th>306527</th>\n",
       "      <td>24f56b5e1849462093931b164eb803b5</td>\n",
       "      <td>714</td>\n",
       "      <td>fafdcd668e3743c1bb461111dcafc2a4</td>\n",
       "      <td>NaN</td>\n",
       "      <td>2.0</td>\n",
       "      <td>1</td>\n",
       "      <td>0</td>\n",
       "      <td>0</td>\n",
       "      <td>0</td>\n",
       "    </tr>\n",
       "  </tbody>\n",
       "</table>\n",
       "<p>306534 rows × 9 columns</p>\n",
       "</div>"
      ],
      "text/plain": [
       "                             customer_id  time  \\\n",
       "284273  6cf884a6c5ae4b2daccb6d3108028fef   630   \n",
       "301790  454b00bdd77c4f588eb9f6cafd81dc5d   690   \n",
       "42253   5ecaea5c8bf44ae4a65838d9d066c909   102   \n",
       "140346  dce784e26f294101999d000fad9089bb   372   \n",
       "302951  52959f19113e4241a8cb3bef486c6412   696   \n",
       "...                                  ...   ...   \n",
       "306497  a6f84f4e976f44508c358cc9aba6d2b3   714   \n",
       "306506  b895c57e8cd047a8872ce02aa54759d6   714   \n",
       "306507  8dda575c2a1d44b9ac8e8b07b93d1f8e   714   \n",
       "306509  8431c16f8e1d440880db371a68f82dd0   714   \n",
       "306527  24f56b5e1849462093931b164eb803b5   714   \n",
       "\n",
       "                                offer_id   amount  transcript_reward  \\\n",
       "284273                              None  1062.28                NaN   \n",
       "301790                              None  1015.73                NaN   \n",
       "42253                               None  1001.85                NaN   \n",
       "140346                              None   989.34                NaN   \n",
       "302951                              None   977.78                NaN   \n",
       "...                                  ...      ...                ...   \n",
       "306497  2298d6c36e964ae4a3e7e9706d1fb8c2      NaN                3.0   \n",
       "306506  fafdcd668e3743c1bb461111dcafc2a4      NaN                2.0   \n",
       "306507  0b1e1539f2cc45b7b9fa7c272da2e1d7      NaN                NaN   \n",
       "306509  fafdcd668e3743c1bb461111dcafc2a4      NaN                2.0   \n",
       "306527  fafdcd668e3743c1bb461111dcafc2a4      NaN                2.0   \n",
       "\n",
       "        event_offer_completed  event_offer_received  event_offer_viewed  \\\n",
       "284273                      0                     0                   0   \n",
       "301790                      0                     0                   0   \n",
       "42253                       0                     0                   0   \n",
       "140346                      0                     0                   0   \n",
       "302951                      0                     0                   0   \n",
       "...                       ...                   ...                 ...   \n",
       "306497                      1                     0                   0   \n",
       "306506                      1                     0                   0   \n",
       "306507                      0                     0                   1   \n",
       "306509                      1                     0                   0   \n",
       "306527                      1                     0                   0   \n",
       "\n",
       "        event_transaction  \n",
       "284273                  1  \n",
       "301790                  1  \n",
       "42253                   1  \n",
       "140346                  1  \n",
       "302951                  1  \n",
       "...                   ...  \n",
       "306497                  0  \n",
       "306506                  0  \n",
       "306507                  0  \n",
       "306509                  0  \n",
       "306527                  0  \n",
       "\n",
       "[306534 rows x 9 columns]"
      ]
     },
     "execution_count": 60,
     "metadata": {},
     "output_type": "execute_result"
    }
   ],
   "source": [
    "transcript.sort_values('amount', ascending=False)"
   ]
  },
  {
   "cell_type": "markdown",
   "metadata": {},
   "source": [
    "Lets take an example to look at what the amount column is telling us. We can see for a specific customer, whenever a transaction is made, i.e. the column event_transaction == 1, then there is a value in amount which is when a customer makes a pruchase. Not always is this correlated to a user receiving, viewing or completing an offer, but for this project we will try and aggregate all this information into one main feature which is amount_spent, before an offer is completed, since we can imagine that this is correlated to whether the offer is completed or not."
   ]
  },
  {
   "cell_type": "code",
   "execution_count": 61,
   "metadata": {},
   "outputs": [
    {
     "data": {
      "text/html": [
       "<div>\n",
       "<style scoped>\n",
       "    .dataframe tbody tr th:only-of-type {\n",
       "        vertical-align: middle;\n",
       "    }\n",
       "\n",
       "    .dataframe tbody tr th {\n",
       "        vertical-align: top;\n",
       "    }\n",
       "\n",
       "    .dataframe thead th {\n",
       "        text-align: right;\n",
       "    }\n",
       "</style>\n",
       "<table border=\"1\" class=\"dataframe\">\n",
       "  <thead>\n",
       "    <tr style=\"text-align: right;\">\n",
       "      <th></th>\n",
       "      <th>customer_id</th>\n",
       "      <th>time</th>\n",
       "      <th>offer_id</th>\n",
       "      <th>amount</th>\n",
       "      <th>transcript_reward</th>\n",
       "      <th>event_offer_completed</th>\n",
       "      <th>event_offer_received</th>\n",
       "      <th>event_offer_viewed</th>\n",
       "      <th>event_transaction</th>\n",
       "    </tr>\n",
       "  </thead>\n",
       "  <tbody>\n",
       "    <tr>\n",
       "      <th>1976</th>\n",
       "      <td>6cf884a6c5ae4b2daccb6d3108028fef</td>\n",
       "      <td>0</td>\n",
       "      <td>9b98b8c7a33c4b65b9aebfe6a799e6d9</td>\n",
       "      <td>NaN</td>\n",
       "      <td>NaN</td>\n",
       "      <td>0</td>\n",
       "      <td>1</td>\n",
       "      <td>0</td>\n",
       "      <td>0</td>\n",
       "    </tr>\n",
       "    <tr>\n",
       "      <th>55173</th>\n",
       "      <td>6cf884a6c5ae4b2daccb6d3108028fef</td>\n",
       "      <td>168</td>\n",
       "      <td>3f207df678b143eea3cee63160fa8bed</td>\n",
       "      <td>NaN</td>\n",
       "      <td>NaN</td>\n",
       "      <td>0</td>\n",
       "      <td>1</td>\n",
       "      <td>0</td>\n",
       "      <td>0</td>\n",
       "    </tr>\n",
       "    <tr>\n",
       "      <th>77568</th>\n",
       "      <td>6cf884a6c5ae4b2daccb6d3108028fef</td>\n",
       "      <td>192</td>\n",
       "      <td>3f207df678b143eea3cee63160fa8bed</td>\n",
       "      <td>NaN</td>\n",
       "      <td>NaN</td>\n",
       "      <td>0</td>\n",
       "      <td>0</td>\n",
       "      <td>1</td>\n",
       "      <td>0</td>\n",
       "    </tr>\n",
       "    <tr>\n",
       "      <th>89183</th>\n",
       "      <td>6cf884a6c5ae4b2daccb6d3108028fef</td>\n",
       "      <td>228</td>\n",
       "      <td>None</td>\n",
       "      <td>39.05</td>\n",
       "      <td>NaN</td>\n",
       "      <td>0</td>\n",
       "      <td>0</td>\n",
       "      <td>0</td>\n",
       "      <td>1</td>\n",
       "    </tr>\n",
       "    <tr>\n",
       "      <th>112788</th>\n",
       "      <td>6cf884a6c5ae4b2daccb6d3108028fef</td>\n",
       "      <td>336</td>\n",
       "      <td>ae264e3637204a6fb9bb56bc8210ddfd</td>\n",
       "      <td>NaN</td>\n",
       "      <td>NaN</td>\n",
       "      <td>0</td>\n",
       "      <td>1</td>\n",
       "      <td>0</td>\n",
       "      <td>0</td>\n",
       "    </tr>\n",
       "    <tr>\n",
       "      <th>124113</th>\n",
       "      <td>6cf884a6c5ae4b2daccb6d3108028fef</td>\n",
       "      <td>336</td>\n",
       "      <td>ae264e3637204a6fb9bb56bc8210ddfd</td>\n",
       "      <td>NaN</td>\n",
       "      <td>NaN</td>\n",
       "      <td>0</td>\n",
       "      <td>0</td>\n",
       "      <td>1</td>\n",
       "      <td>0</td>\n",
       "    </tr>\n",
       "    <tr>\n",
       "      <th>130587</th>\n",
       "      <td>6cf884a6c5ae4b2daccb6d3108028fef</td>\n",
       "      <td>348</td>\n",
       "      <td>None</td>\n",
       "      <td>37.98</td>\n",
       "      <td>NaN</td>\n",
       "      <td>0</td>\n",
       "      <td>0</td>\n",
       "      <td>0</td>\n",
       "      <td>1</td>\n",
       "    </tr>\n",
       "    <tr>\n",
       "      <th>130588</th>\n",
       "      <td>6cf884a6c5ae4b2daccb6d3108028fef</td>\n",
       "      <td>348</td>\n",
       "      <td>ae264e3637204a6fb9bb56bc8210ddfd</td>\n",
       "      <td>NaN</td>\n",
       "      <td>10.0</td>\n",
       "      <td>1</td>\n",
       "      <td>0</td>\n",
       "      <td>0</td>\n",
       "      <td>0</td>\n",
       "    </tr>\n",
       "    <tr>\n",
       "      <th>152584</th>\n",
       "      <td>6cf884a6c5ae4b2daccb6d3108028fef</td>\n",
       "      <td>408</td>\n",
       "      <td>2298d6c36e964ae4a3e7e9706d1fb8c2</td>\n",
       "      <td>NaN</td>\n",
       "      <td>NaN</td>\n",
       "      <td>0</td>\n",
       "      <td>1</td>\n",
       "      <td>0</td>\n",
       "      <td>0</td>\n",
       "    </tr>\n",
       "    <tr>\n",
       "      <th>187429</th>\n",
       "      <td>6cf884a6c5ae4b2daccb6d3108028fef</td>\n",
       "      <td>456</td>\n",
       "      <td>None</td>\n",
       "      <td>25.95</td>\n",
       "      <td>NaN</td>\n",
       "      <td>0</td>\n",
       "      <td>0</td>\n",
       "      <td>0</td>\n",
       "      <td>1</td>\n",
       "    </tr>\n",
       "    <tr>\n",
       "      <th>187430</th>\n",
       "      <td>6cf884a6c5ae4b2daccb6d3108028fef</td>\n",
       "      <td>456</td>\n",
       "      <td>2298d6c36e964ae4a3e7e9706d1fb8c2</td>\n",
       "      <td>NaN</td>\n",
       "      <td>3.0</td>\n",
       "      <td>1</td>\n",
       "      <td>0</td>\n",
       "      <td>0</td>\n",
       "      <td>0</td>\n",
       "    </tr>\n",
       "    <tr>\n",
       "      <th>198737</th>\n",
       "      <td>6cf884a6c5ae4b2daccb6d3108028fef</td>\n",
       "      <td>492</td>\n",
       "      <td>2298d6c36e964ae4a3e7e9706d1fb8c2</td>\n",
       "      <td>NaN</td>\n",
       "      <td>NaN</td>\n",
       "      <td>0</td>\n",
       "      <td>0</td>\n",
       "      <td>1</td>\n",
       "      <td>0</td>\n",
       "    </tr>\n",
       "    <tr>\n",
       "      <th>247062</th>\n",
       "      <td>6cf884a6c5ae4b2daccb6d3108028fef</td>\n",
       "      <td>576</td>\n",
       "      <td>5a8bc65990b245e5a138643cd4eb9837</td>\n",
       "      <td>NaN</td>\n",
       "      <td>NaN</td>\n",
       "      <td>0</td>\n",
       "      <td>1</td>\n",
       "      <td>0</td>\n",
       "      <td>0</td>\n",
       "    </tr>\n",
       "    <tr>\n",
       "      <th>284273</th>\n",
       "      <td>6cf884a6c5ae4b2daccb6d3108028fef</td>\n",
       "      <td>630</td>\n",
       "      <td>None</td>\n",
       "      <td>1062.28</td>\n",
       "      <td>NaN</td>\n",
       "      <td>0</td>\n",
       "      <td>0</td>\n",
       "      <td>0</td>\n",
       "      <td>1</td>\n",
       "    </tr>\n",
       "    <tr>\n",
       "      <th>304501</th>\n",
       "      <td>6cf884a6c5ae4b2daccb6d3108028fef</td>\n",
       "      <td>708</td>\n",
       "      <td>5a8bc65990b245e5a138643cd4eb9837</td>\n",
       "      <td>NaN</td>\n",
       "      <td>NaN</td>\n",
       "      <td>0</td>\n",
       "      <td>0</td>\n",
       "      <td>1</td>\n",
       "      <td>0</td>\n",
       "    </tr>\n",
       "  </tbody>\n",
       "</table>\n",
       "</div>"
      ],
      "text/plain": [
       "                             customer_id  time  \\\n",
       "1976    6cf884a6c5ae4b2daccb6d3108028fef     0   \n",
       "55173   6cf884a6c5ae4b2daccb6d3108028fef   168   \n",
       "77568   6cf884a6c5ae4b2daccb6d3108028fef   192   \n",
       "89183   6cf884a6c5ae4b2daccb6d3108028fef   228   \n",
       "112788  6cf884a6c5ae4b2daccb6d3108028fef   336   \n",
       "124113  6cf884a6c5ae4b2daccb6d3108028fef   336   \n",
       "130587  6cf884a6c5ae4b2daccb6d3108028fef   348   \n",
       "130588  6cf884a6c5ae4b2daccb6d3108028fef   348   \n",
       "152584  6cf884a6c5ae4b2daccb6d3108028fef   408   \n",
       "187429  6cf884a6c5ae4b2daccb6d3108028fef   456   \n",
       "187430  6cf884a6c5ae4b2daccb6d3108028fef   456   \n",
       "198737  6cf884a6c5ae4b2daccb6d3108028fef   492   \n",
       "247062  6cf884a6c5ae4b2daccb6d3108028fef   576   \n",
       "284273  6cf884a6c5ae4b2daccb6d3108028fef   630   \n",
       "304501  6cf884a6c5ae4b2daccb6d3108028fef   708   \n",
       "\n",
       "                                offer_id   amount  transcript_reward  \\\n",
       "1976    9b98b8c7a33c4b65b9aebfe6a799e6d9      NaN                NaN   \n",
       "55173   3f207df678b143eea3cee63160fa8bed      NaN                NaN   \n",
       "77568   3f207df678b143eea3cee63160fa8bed      NaN                NaN   \n",
       "89183                               None    39.05                NaN   \n",
       "112788  ae264e3637204a6fb9bb56bc8210ddfd      NaN                NaN   \n",
       "124113  ae264e3637204a6fb9bb56bc8210ddfd      NaN                NaN   \n",
       "130587                              None    37.98                NaN   \n",
       "130588  ae264e3637204a6fb9bb56bc8210ddfd      NaN               10.0   \n",
       "152584  2298d6c36e964ae4a3e7e9706d1fb8c2      NaN                NaN   \n",
       "187429                              None    25.95                NaN   \n",
       "187430  2298d6c36e964ae4a3e7e9706d1fb8c2      NaN                3.0   \n",
       "198737  2298d6c36e964ae4a3e7e9706d1fb8c2      NaN                NaN   \n",
       "247062  5a8bc65990b245e5a138643cd4eb9837      NaN                NaN   \n",
       "284273                              None  1062.28                NaN   \n",
       "304501  5a8bc65990b245e5a138643cd4eb9837      NaN                NaN   \n",
       "\n",
       "        event_offer_completed  event_offer_received  event_offer_viewed  \\\n",
       "1976                        0                     1                   0   \n",
       "55173                       0                     1                   0   \n",
       "77568                       0                     0                   1   \n",
       "89183                       0                     0                   0   \n",
       "112788                      0                     1                   0   \n",
       "124113                      0                     0                   1   \n",
       "130587                      0                     0                   0   \n",
       "130588                      1                     0                   0   \n",
       "152584                      0                     1                   0   \n",
       "187429                      0                     0                   0   \n",
       "187430                      1                     0                   0   \n",
       "198737                      0                     0                   1   \n",
       "247062                      0                     1                   0   \n",
       "284273                      0                     0                   0   \n",
       "304501                      0                     0                   1   \n",
       "\n",
       "        event_transaction  \n",
       "1976                    0  \n",
       "55173                   0  \n",
       "77568                   0  \n",
       "89183                   1  \n",
       "112788                  0  \n",
       "124113                  0  \n",
       "130587                  1  \n",
       "130588                  0  \n",
       "152584                  0  \n",
       "187429                  1  \n",
       "187430                  0  \n",
       "198737                  0  \n",
       "247062                  0  \n",
       "284273                  1  \n",
       "304501                  0  "
      ]
     },
     "execution_count": 61,
     "metadata": {},
     "output_type": "execute_result"
    }
   ],
   "source": [
    "transcript[transcript['customer_id'] == '6cf884a6c5ae4b2daccb6d3108028fef']"
   ]
  },
  {
   "cell_type": "markdown",
   "metadata": {},
   "source": [
    "We will define another dataframe where we group by each offer and customer, and aggregate this time at which we have 1 or 0 if an offer is received, viewed and completed. We take the minimum time because we assume that the profiling for an offer for each customer is activated once any of the following happens, the offer is viewed, received or completed. Then we will see what is the amount spend before the following transaction is made."
   ]
  },
  {
   "cell_type": "markdown",
   "metadata": {},
   "source": [
    "Lets say the usual flow that we except if there is an impact on sending an offer is  Offer is received --> Offer is viewed --> Transaction amount is recoreded and simulataneously Offer is completed, this is why we take the minimum time since later we will see the times before the transaction is made. "
   ]
  },
  {
   "cell_type": "code",
   "execution_count": 62,
   "metadata": {},
   "outputs": [],
   "source": [
    "time_offer_profile_df = transcript.groupby(['customer_id','offer_id']).agg({'time': np.min,\n",
    "                                                          'event_offer_received': np.max,\n",
    "                                                          'event_offer_viewed': np.max,\n",
    "                                                          'event_offer_completed': np.max\n",
    "                                                          }).reset_index()"
   ]
  },
  {
   "cell_type": "code",
   "execution_count": 63,
   "metadata": {},
   "outputs": [
    {
     "data": {
      "text/html": [
       "<div>\n",
       "<style scoped>\n",
       "    .dataframe tbody tr th:only-of-type {\n",
       "        vertical-align: middle;\n",
       "    }\n",
       "\n",
       "    .dataframe tbody tr th {\n",
       "        vertical-align: top;\n",
       "    }\n",
       "\n",
       "    .dataframe thead th {\n",
       "        text-align: right;\n",
       "    }\n",
       "</style>\n",
       "<table border=\"1\" class=\"dataframe\">\n",
       "  <thead>\n",
       "    <tr style=\"text-align: right;\">\n",
       "      <th></th>\n",
       "      <th>customer_id</th>\n",
       "      <th>offer_id</th>\n",
       "      <th>time</th>\n",
       "      <th>event_offer_received</th>\n",
       "      <th>event_offer_viewed</th>\n",
       "      <th>event_offer_completed</th>\n",
       "    </tr>\n",
       "  </thead>\n",
       "  <tbody>\n",
       "    <tr>\n",
       "      <th>26950</th>\n",
       "      <td>6cf884a6c5ae4b2daccb6d3108028fef</td>\n",
       "      <td>2298d6c36e964ae4a3e7e9706d1fb8c2</td>\n",
       "      <td>408</td>\n",
       "      <td>1</td>\n",
       "      <td>1</td>\n",
       "      <td>1</td>\n",
       "    </tr>\n",
       "    <tr>\n",
       "      <th>26951</th>\n",
       "      <td>6cf884a6c5ae4b2daccb6d3108028fef</td>\n",
       "      <td>3f207df678b143eea3cee63160fa8bed</td>\n",
       "      <td>168</td>\n",
       "      <td>1</td>\n",
       "      <td>1</td>\n",
       "      <td>0</td>\n",
       "    </tr>\n",
       "    <tr>\n",
       "      <th>26952</th>\n",
       "      <td>6cf884a6c5ae4b2daccb6d3108028fef</td>\n",
       "      <td>5a8bc65990b245e5a138643cd4eb9837</td>\n",
       "      <td>576</td>\n",
       "      <td>1</td>\n",
       "      <td>1</td>\n",
       "      <td>0</td>\n",
       "    </tr>\n",
       "    <tr>\n",
       "      <th>26953</th>\n",
       "      <td>6cf884a6c5ae4b2daccb6d3108028fef</td>\n",
       "      <td>9b98b8c7a33c4b65b9aebfe6a799e6d9</td>\n",
       "      <td>0</td>\n",
       "      <td>1</td>\n",
       "      <td>0</td>\n",
       "      <td>0</td>\n",
       "    </tr>\n",
       "    <tr>\n",
       "      <th>26954</th>\n",
       "      <td>6cf884a6c5ae4b2daccb6d3108028fef</td>\n",
       "      <td>ae264e3637204a6fb9bb56bc8210ddfd</td>\n",
       "      <td>336</td>\n",
       "      <td>1</td>\n",
       "      <td>1</td>\n",
       "      <td>1</td>\n",
       "    </tr>\n",
       "  </tbody>\n",
       "</table>\n",
       "</div>"
      ],
      "text/plain": [
       "                            customer_id                          offer_id  \\\n",
       "26950  6cf884a6c5ae4b2daccb6d3108028fef  2298d6c36e964ae4a3e7e9706d1fb8c2   \n",
       "26951  6cf884a6c5ae4b2daccb6d3108028fef  3f207df678b143eea3cee63160fa8bed   \n",
       "26952  6cf884a6c5ae4b2daccb6d3108028fef  5a8bc65990b245e5a138643cd4eb9837   \n",
       "26953  6cf884a6c5ae4b2daccb6d3108028fef  9b98b8c7a33c4b65b9aebfe6a799e6d9   \n",
       "26954  6cf884a6c5ae4b2daccb6d3108028fef  ae264e3637204a6fb9bb56bc8210ddfd   \n",
       "\n",
       "       time  event_offer_received  event_offer_viewed  event_offer_completed  \n",
       "26950   408                     1                   1                      1  \n",
       "26951   168                     1                   1                      0  \n",
       "26952   576                     1                   1                      0  \n",
       "26953     0                     1                   0                      0  \n",
       "26954   336                     1                   1                      1  "
      ]
     },
     "execution_count": 63,
     "metadata": {},
     "output_type": "execute_result"
    }
   ],
   "source": [
    "time_offer_profile_df[time_offer_profile_df['customer_id'] == '6cf884a6c5ae4b2daccb6d3108028fef']"
   ]
  },
  {
   "cell_type": "markdown",
   "metadata": {},
   "source": [
    "As mentioned, now we will join the above table with the table where we take into account only the event_transactions and the time at which they happen for each customer and add up all the amount values that happen prior to the transaction so as to record what was the total amount spent before a transaction had taken place."
   ]
  },
  {
   "cell_type": "code",
   "execution_count": 64,
   "metadata": {},
   "outputs": [],
   "source": [
    "transaction_per_customer = transcript[transcript['event_transaction'] == 1][['customer_id', 'time', 'amount']]"
   ]
  },
  {
   "cell_type": "code",
   "execution_count": 65,
   "metadata": {},
   "outputs": [
    {
     "data": {
      "text/html": [
       "<div>\n",
       "<style scoped>\n",
       "    .dataframe tbody tr th:only-of-type {\n",
       "        vertical-align: middle;\n",
       "    }\n",
       "\n",
       "    .dataframe tbody tr th {\n",
       "        vertical-align: top;\n",
       "    }\n",
       "\n",
       "    .dataframe thead th {\n",
       "        text-align: right;\n",
       "    }\n",
       "</style>\n",
       "<table border=\"1\" class=\"dataframe\">\n",
       "  <thead>\n",
       "    <tr style=\"text-align: right;\">\n",
       "      <th></th>\n",
       "      <th>customer_id</th>\n",
       "      <th>time</th>\n",
       "      <th>amount</th>\n",
       "    </tr>\n",
       "  </thead>\n",
       "  <tbody>\n",
       "    <tr>\n",
       "      <th>89183</th>\n",
       "      <td>6cf884a6c5ae4b2daccb6d3108028fef</td>\n",
       "      <td>228</td>\n",
       "      <td>39.05</td>\n",
       "    </tr>\n",
       "    <tr>\n",
       "      <th>130587</th>\n",
       "      <td>6cf884a6c5ae4b2daccb6d3108028fef</td>\n",
       "      <td>348</td>\n",
       "      <td>37.98</td>\n",
       "    </tr>\n",
       "    <tr>\n",
       "      <th>187429</th>\n",
       "      <td>6cf884a6c5ae4b2daccb6d3108028fef</td>\n",
       "      <td>456</td>\n",
       "      <td>25.95</td>\n",
       "    </tr>\n",
       "    <tr>\n",
       "      <th>284273</th>\n",
       "      <td>6cf884a6c5ae4b2daccb6d3108028fef</td>\n",
       "      <td>630</td>\n",
       "      <td>1062.28</td>\n",
       "    </tr>\n",
       "  </tbody>\n",
       "</table>\n",
       "</div>"
      ],
      "text/plain": [
       "                             customer_id  time   amount\n",
       "89183   6cf884a6c5ae4b2daccb6d3108028fef   228    39.05\n",
       "130587  6cf884a6c5ae4b2daccb6d3108028fef   348    37.98\n",
       "187429  6cf884a6c5ae4b2daccb6d3108028fef   456    25.95\n",
       "284273  6cf884a6c5ae4b2daccb6d3108028fef   630  1062.28"
      ]
     },
     "execution_count": 65,
     "metadata": {},
     "output_type": "execute_result"
    }
   ],
   "source": [
    "transaction_per_customer[transaction_per_customer['customer_id'] == '6cf884a6c5ae4b2daccb6d3108028fef']"
   ]
  },
  {
   "cell_type": "code",
   "execution_count": 66,
   "metadata": {},
   "outputs": [
    {
     "name": "stdout",
     "output_type": "stream",
     "text": [
      "<class 'pandas.core.frame.DataFrame'>\n",
      "Int64Index: 138953 entries, 12654 to 306533\n",
      "Data columns (total 3 columns):\n",
      " #   Column       Non-Null Count   Dtype  \n",
      "---  ------       --------------   -----  \n",
      " 0   customer_id  138953 non-null  object \n",
      " 1   time         138953 non-null  int64  \n",
      " 2   amount       138953 non-null  float64\n",
      "dtypes: float64(1), int64(1), object(1)\n",
      "memory usage: 4.2+ MB\n"
     ]
    }
   ],
   "source": [
    "transaction_per_customer.info()"
   ]
  },
  {
   "cell_type": "code",
   "execution_count": 67,
   "metadata": {},
   "outputs": [
    {
     "name": "stdout",
     "output_type": "stream",
     "text": [
      "<class 'pandas.core.frame.DataFrame'>\n",
      "RangeIndex: 63288 entries, 0 to 63287\n",
      "Data columns (total 6 columns):\n",
      " #   Column                 Non-Null Count  Dtype \n",
      "---  ------                 --------------  ----- \n",
      " 0   customer_id            63288 non-null  object\n",
      " 1   offer_id               63288 non-null  object\n",
      " 2   time                   63288 non-null  int64 \n",
      " 3   event_offer_received   63288 non-null  uint8 \n",
      " 4   event_offer_viewed     63288 non-null  uint8 \n",
      " 5   event_offer_completed  63288 non-null  uint8 \n",
      "dtypes: int64(1), object(2), uint8(3)\n",
      "memory usage: 1.6+ MB\n"
     ]
    }
   ],
   "source": [
    "time_offer_profile_df.info()"
   ]
  },
  {
   "cell_type": "markdown",
   "metadata": {},
   "source": [
    "Since we focus on event offer being received, viewed and completed we will left join on the transaction_per_cusomter table to later look at the amounts for the times prior to a transaction."
   ]
  },
  {
   "cell_type": "code",
   "execution_count": 68,
   "metadata": {},
   "outputs": [],
   "source": [
    "transaction_per_customer_w_time_offer_profile_df = pd.merge(time_offer_profile_df, transaction_per_customer, on='customer_id', how='left')"
   ]
  },
  {
   "cell_type": "code",
   "execution_count": 69,
   "metadata": {},
   "outputs": [
    {
     "data": {
      "text/html": [
       "<div>\n",
       "<style scoped>\n",
       "    .dataframe tbody tr th:only-of-type {\n",
       "        vertical-align: middle;\n",
       "    }\n",
       "\n",
       "    .dataframe tbody tr th {\n",
       "        vertical-align: top;\n",
       "    }\n",
       "\n",
       "    .dataframe thead th {\n",
       "        text-align: right;\n",
       "    }\n",
       "</style>\n",
       "<table border=\"1\" class=\"dataframe\">\n",
       "  <thead>\n",
       "    <tr style=\"text-align: right;\">\n",
       "      <th></th>\n",
       "      <th>customer_id</th>\n",
       "      <th>offer_id</th>\n",
       "      <th>time_x</th>\n",
       "      <th>event_offer_received</th>\n",
       "      <th>event_offer_viewed</th>\n",
       "      <th>event_offer_completed</th>\n",
       "      <th>time_y</th>\n",
       "      <th>amount</th>\n",
       "    </tr>\n",
       "  </thead>\n",
       "  <tbody>\n",
       "    <tr>\n",
       "      <th>223743</th>\n",
       "      <td>6cf884a6c5ae4b2daccb6d3108028fef</td>\n",
       "      <td>2298d6c36e964ae4a3e7e9706d1fb8c2</td>\n",
       "      <td>408</td>\n",
       "      <td>1</td>\n",
       "      <td>1</td>\n",
       "      <td>1</td>\n",
       "      <td>228.0</td>\n",
       "      <td>39.05</td>\n",
       "    </tr>\n",
       "    <tr>\n",
       "      <th>223744</th>\n",
       "      <td>6cf884a6c5ae4b2daccb6d3108028fef</td>\n",
       "      <td>2298d6c36e964ae4a3e7e9706d1fb8c2</td>\n",
       "      <td>408</td>\n",
       "      <td>1</td>\n",
       "      <td>1</td>\n",
       "      <td>1</td>\n",
       "      <td>348.0</td>\n",
       "      <td>37.98</td>\n",
       "    </tr>\n",
       "    <tr>\n",
       "      <th>223745</th>\n",
       "      <td>6cf884a6c5ae4b2daccb6d3108028fef</td>\n",
       "      <td>2298d6c36e964ae4a3e7e9706d1fb8c2</td>\n",
       "      <td>408</td>\n",
       "      <td>1</td>\n",
       "      <td>1</td>\n",
       "      <td>1</td>\n",
       "      <td>456.0</td>\n",
       "      <td>25.95</td>\n",
       "    </tr>\n",
       "    <tr>\n",
       "      <th>223746</th>\n",
       "      <td>6cf884a6c5ae4b2daccb6d3108028fef</td>\n",
       "      <td>2298d6c36e964ae4a3e7e9706d1fb8c2</td>\n",
       "      <td>408</td>\n",
       "      <td>1</td>\n",
       "      <td>1</td>\n",
       "      <td>1</td>\n",
       "      <td>630.0</td>\n",
       "      <td>1062.28</td>\n",
       "    </tr>\n",
       "    <tr>\n",
       "      <th>223747</th>\n",
       "      <td>6cf884a6c5ae4b2daccb6d3108028fef</td>\n",
       "      <td>3f207df678b143eea3cee63160fa8bed</td>\n",
       "      <td>168</td>\n",
       "      <td>1</td>\n",
       "      <td>1</td>\n",
       "      <td>0</td>\n",
       "      <td>228.0</td>\n",
       "      <td>39.05</td>\n",
       "    </tr>\n",
       "    <tr>\n",
       "      <th>223748</th>\n",
       "      <td>6cf884a6c5ae4b2daccb6d3108028fef</td>\n",
       "      <td>3f207df678b143eea3cee63160fa8bed</td>\n",
       "      <td>168</td>\n",
       "      <td>1</td>\n",
       "      <td>1</td>\n",
       "      <td>0</td>\n",
       "      <td>348.0</td>\n",
       "      <td>37.98</td>\n",
       "    </tr>\n",
       "    <tr>\n",
       "      <th>223749</th>\n",
       "      <td>6cf884a6c5ae4b2daccb6d3108028fef</td>\n",
       "      <td>3f207df678b143eea3cee63160fa8bed</td>\n",
       "      <td>168</td>\n",
       "      <td>1</td>\n",
       "      <td>1</td>\n",
       "      <td>0</td>\n",
       "      <td>456.0</td>\n",
       "      <td>25.95</td>\n",
       "    </tr>\n",
       "    <tr>\n",
       "      <th>223750</th>\n",
       "      <td>6cf884a6c5ae4b2daccb6d3108028fef</td>\n",
       "      <td>3f207df678b143eea3cee63160fa8bed</td>\n",
       "      <td>168</td>\n",
       "      <td>1</td>\n",
       "      <td>1</td>\n",
       "      <td>0</td>\n",
       "      <td>630.0</td>\n",
       "      <td>1062.28</td>\n",
       "    </tr>\n",
       "    <tr>\n",
       "      <th>223751</th>\n",
       "      <td>6cf884a6c5ae4b2daccb6d3108028fef</td>\n",
       "      <td>5a8bc65990b245e5a138643cd4eb9837</td>\n",
       "      <td>576</td>\n",
       "      <td>1</td>\n",
       "      <td>1</td>\n",
       "      <td>0</td>\n",
       "      <td>228.0</td>\n",
       "      <td>39.05</td>\n",
       "    </tr>\n",
       "    <tr>\n",
       "      <th>223752</th>\n",
       "      <td>6cf884a6c5ae4b2daccb6d3108028fef</td>\n",
       "      <td>5a8bc65990b245e5a138643cd4eb9837</td>\n",
       "      <td>576</td>\n",
       "      <td>1</td>\n",
       "      <td>1</td>\n",
       "      <td>0</td>\n",
       "      <td>348.0</td>\n",
       "      <td>37.98</td>\n",
       "    </tr>\n",
       "    <tr>\n",
       "      <th>223753</th>\n",
       "      <td>6cf884a6c5ae4b2daccb6d3108028fef</td>\n",
       "      <td>5a8bc65990b245e5a138643cd4eb9837</td>\n",
       "      <td>576</td>\n",
       "      <td>1</td>\n",
       "      <td>1</td>\n",
       "      <td>0</td>\n",
       "      <td>456.0</td>\n",
       "      <td>25.95</td>\n",
       "    </tr>\n",
       "    <tr>\n",
       "      <th>223754</th>\n",
       "      <td>6cf884a6c5ae4b2daccb6d3108028fef</td>\n",
       "      <td>5a8bc65990b245e5a138643cd4eb9837</td>\n",
       "      <td>576</td>\n",
       "      <td>1</td>\n",
       "      <td>1</td>\n",
       "      <td>0</td>\n",
       "      <td>630.0</td>\n",
       "      <td>1062.28</td>\n",
       "    </tr>\n",
       "    <tr>\n",
       "      <th>223755</th>\n",
       "      <td>6cf884a6c5ae4b2daccb6d3108028fef</td>\n",
       "      <td>9b98b8c7a33c4b65b9aebfe6a799e6d9</td>\n",
       "      <td>0</td>\n",
       "      <td>1</td>\n",
       "      <td>0</td>\n",
       "      <td>0</td>\n",
       "      <td>228.0</td>\n",
       "      <td>39.05</td>\n",
       "    </tr>\n",
       "    <tr>\n",
       "      <th>223756</th>\n",
       "      <td>6cf884a6c5ae4b2daccb6d3108028fef</td>\n",
       "      <td>9b98b8c7a33c4b65b9aebfe6a799e6d9</td>\n",
       "      <td>0</td>\n",
       "      <td>1</td>\n",
       "      <td>0</td>\n",
       "      <td>0</td>\n",
       "      <td>348.0</td>\n",
       "      <td>37.98</td>\n",
       "    </tr>\n",
       "    <tr>\n",
       "      <th>223757</th>\n",
       "      <td>6cf884a6c5ae4b2daccb6d3108028fef</td>\n",
       "      <td>9b98b8c7a33c4b65b9aebfe6a799e6d9</td>\n",
       "      <td>0</td>\n",
       "      <td>1</td>\n",
       "      <td>0</td>\n",
       "      <td>0</td>\n",
       "      <td>456.0</td>\n",
       "      <td>25.95</td>\n",
       "    </tr>\n",
       "    <tr>\n",
       "      <th>223758</th>\n",
       "      <td>6cf884a6c5ae4b2daccb6d3108028fef</td>\n",
       "      <td>9b98b8c7a33c4b65b9aebfe6a799e6d9</td>\n",
       "      <td>0</td>\n",
       "      <td>1</td>\n",
       "      <td>0</td>\n",
       "      <td>0</td>\n",
       "      <td>630.0</td>\n",
       "      <td>1062.28</td>\n",
       "    </tr>\n",
       "    <tr>\n",
       "      <th>223759</th>\n",
       "      <td>6cf884a6c5ae4b2daccb6d3108028fef</td>\n",
       "      <td>ae264e3637204a6fb9bb56bc8210ddfd</td>\n",
       "      <td>336</td>\n",
       "      <td>1</td>\n",
       "      <td>1</td>\n",
       "      <td>1</td>\n",
       "      <td>228.0</td>\n",
       "      <td>39.05</td>\n",
       "    </tr>\n",
       "    <tr>\n",
       "      <th>223760</th>\n",
       "      <td>6cf884a6c5ae4b2daccb6d3108028fef</td>\n",
       "      <td>ae264e3637204a6fb9bb56bc8210ddfd</td>\n",
       "      <td>336</td>\n",
       "      <td>1</td>\n",
       "      <td>1</td>\n",
       "      <td>1</td>\n",
       "      <td>348.0</td>\n",
       "      <td>37.98</td>\n",
       "    </tr>\n",
       "    <tr>\n",
       "      <th>223761</th>\n",
       "      <td>6cf884a6c5ae4b2daccb6d3108028fef</td>\n",
       "      <td>ae264e3637204a6fb9bb56bc8210ddfd</td>\n",
       "      <td>336</td>\n",
       "      <td>1</td>\n",
       "      <td>1</td>\n",
       "      <td>1</td>\n",
       "      <td>456.0</td>\n",
       "      <td>25.95</td>\n",
       "    </tr>\n",
       "    <tr>\n",
       "      <th>223762</th>\n",
       "      <td>6cf884a6c5ae4b2daccb6d3108028fef</td>\n",
       "      <td>ae264e3637204a6fb9bb56bc8210ddfd</td>\n",
       "      <td>336</td>\n",
       "      <td>1</td>\n",
       "      <td>1</td>\n",
       "      <td>1</td>\n",
       "      <td>630.0</td>\n",
       "      <td>1062.28</td>\n",
       "    </tr>\n",
       "  </tbody>\n",
       "</table>\n",
       "</div>"
      ],
      "text/plain": [
       "                             customer_id                          offer_id  \\\n",
       "223743  6cf884a6c5ae4b2daccb6d3108028fef  2298d6c36e964ae4a3e7e9706d1fb8c2   \n",
       "223744  6cf884a6c5ae4b2daccb6d3108028fef  2298d6c36e964ae4a3e7e9706d1fb8c2   \n",
       "223745  6cf884a6c5ae4b2daccb6d3108028fef  2298d6c36e964ae4a3e7e9706d1fb8c2   \n",
       "223746  6cf884a6c5ae4b2daccb6d3108028fef  2298d6c36e964ae4a3e7e9706d1fb8c2   \n",
       "223747  6cf884a6c5ae4b2daccb6d3108028fef  3f207df678b143eea3cee63160fa8bed   \n",
       "223748  6cf884a6c5ae4b2daccb6d3108028fef  3f207df678b143eea3cee63160fa8bed   \n",
       "223749  6cf884a6c5ae4b2daccb6d3108028fef  3f207df678b143eea3cee63160fa8bed   \n",
       "223750  6cf884a6c5ae4b2daccb6d3108028fef  3f207df678b143eea3cee63160fa8bed   \n",
       "223751  6cf884a6c5ae4b2daccb6d3108028fef  5a8bc65990b245e5a138643cd4eb9837   \n",
       "223752  6cf884a6c5ae4b2daccb6d3108028fef  5a8bc65990b245e5a138643cd4eb9837   \n",
       "223753  6cf884a6c5ae4b2daccb6d3108028fef  5a8bc65990b245e5a138643cd4eb9837   \n",
       "223754  6cf884a6c5ae4b2daccb6d3108028fef  5a8bc65990b245e5a138643cd4eb9837   \n",
       "223755  6cf884a6c5ae4b2daccb6d3108028fef  9b98b8c7a33c4b65b9aebfe6a799e6d9   \n",
       "223756  6cf884a6c5ae4b2daccb6d3108028fef  9b98b8c7a33c4b65b9aebfe6a799e6d9   \n",
       "223757  6cf884a6c5ae4b2daccb6d3108028fef  9b98b8c7a33c4b65b9aebfe6a799e6d9   \n",
       "223758  6cf884a6c5ae4b2daccb6d3108028fef  9b98b8c7a33c4b65b9aebfe6a799e6d9   \n",
       "223759  6cf884a6c5ae4b2daccb6d3108028fef  ae264e3637204a6fb9bb56bc8210ddfd   \n",
       "223760  6cf884a6c5ae4b2daccb6d3108028fef  ae264e3637204a6fb9bb56bc8210ddfd   \n",
       "223761  6cf884a6c5ae4b2daccb6d3108028fef  ae264e3637204a6fb9bb56bc8210ddfd   \n",
       "223762  6cf884a6c5ae4b2daccb6d3108028fef  ae264e3637204a6fb9bb56bc8210ddfd   \n",
       "\n",
       "        time_x  event_offer_received  event_offer_viewed  \\\n",
       "223743     408                     1                   1   \n",
       "223744     408                     1                   1   \n",
       "223745     408                     1                   1   \n",
       "223746     408                     1                   1   \n",
       "223747     168                     1                   1   \n",
       "223748     168                     1                   1   \n",
       "223749     168                     1                   1   \n",
       "223750     168                     1                   1   \n",
       "223751     576                     1                   1   \n",
       "223752     576                     1                   1   \n",
       "223753     576                     1                   1   \n",
       "223754     576                     1                   1   \n",
       "223755       0                     1                   0   \n",
       "223756       0                     1                   0   \n",
       "223757       0                     1                   0   \n",
       "223758       0                     1                   0   \n",
       "223759     336                     1                   1   \n",
       "223760     336                     1                   1   \n",
       "223761     336                     1                   1   \n",
       "223762     336                     1                   1   \n",
       "\n",
       "        event_offer_completed  time_y   amount  \n",
       "223743                      1   228.0    39.05  \n",
       "223744                      1   348.0    37.98  \n",
       "223745                      1   456.0    25.95  \n",
       "223746                      1   630.0  1062.28  \n",
       "223747                      0   228.0    39.05  \n",
       "223748                      0   348.0    37.98  \n",
       "223749                      0   456.0    25.95  \n",
       "223750                      0   630.0  1062.28  \n",
       "223751                      0   228.0    39.05  \n",
       "223752                      0   348.0    37.98  \n",
       "223753                      0   456.0    25.95  \n",
       "223754                      0   630.0  1062.28  \n",
       "223755                      0   228.0    39.05  \n",
       "223756                      0   348.0    37.98  \n",
       "223757                      0   456.0    25.95  \n",
       "223758                      0   630.0  1062.28  \n",
       "223759                      1   228.0    39.05  \n",
       "223760                      1   348.0    37.98  \n",
       "223761                      1   456.0    25.95  \n",
       "223762                      1   630.0  1062.28  "
      ]
     },
     "execution_count": 69,
     "metadata": {},
     "output_type": "execute_result"
    }
   ],
   "source": [
    "transaction_per_customer_w_time_offer_profile_df[transaction_per_customer_w_time_offer_profile_df['customer_id'] == '6cf884a6c5ae4b2daccb6d3108028fef']"
   ]
  },
  {
   "cell_type": "code",
   "execution_count": 70,
   "metadata": {},
   "outputs": [],
   "source": [
    "customer_offer_event_profile_w_total_amount_before_event_trans_df = transaction_per_customer_w_time_offer_profile_df[transaction_per_customer_w_time_offer_profile_df['time_x'] > transaction_per_customer_w_time_offer_profile_df['time_y']].groupby(['customer_id','offer_id']).agg({'event_offer_received': np.max,\n",
    "                                                                                        'event_offer_viewed': np.max,\n",
    "                                                                                          'event_offer_completed':np.max,\n",
    "                                                                                          'amount': np.sum\n",
    "                                                                                          }).reset_index()"
   ]
  },
  {
   "cell_type": "code",
   "execution_count": 71,
   "metadata": {},
   "outputs": [
    {
     "data": {
      "text/html": [
       "<div>\n",
       "<style scoped>\n",
       "    .dataframe tbody tr th:only-of-type {\n",
       "        vertical-align: middle;\n",
       "    }\n",
       "\n",
       "    .dataframe tbody tr th {\n",
       "        vertical-align: top;\n",
       "    }\n",
       "\n",
       "    .dataframe thead th {\n",
       "        text-align: right;\n",
       "    }\n",
       "</style>\n",
       "<table border=\"1\" class=\"dataframe\">\n",
       "  <thead>\n",
       "    <tr style=\"text-align: right;\">\n",
       "      <th></th>\n",
       "      <th>customer_id</th>\n",
       "      <th>offer_id</th>\n",
       "      <th>event_offer_received</th>\n",
       "      <th>event_offer_viewed</th>\n",
       "      <th>event_offer_completed</th>\n",
       "      <th>amount</th>\n",
       "    </tr>\n",
       "  </thead>\n",
       "  <tbody>\n",
       "    <tr>\n",
       "      <th>18455</th>\n",
       "      <td>6cf884a6c5ae4b2daccb6d3108028fef</td>\n",
       "      <td>2298d6c36e964ae4a3e7e9706d1fb8c2</td>\n",
       "      <td>1</td>\n",
       "      <td>1</td>\n",
       "      <td>1</td>\n",
       "      <td>77.03</td>\n",
       "    </tr>\n",
       "    <tr>\n",
       "      <th>18456</th>\n",
       "      <td>6cf884a6c5ae4b2daccb6d3108028fef</td>\n",
       "      <td>5a8bc65990b245e5a138643cd4eb9837</td>\n",
       "      <td>1</td>\n",
       "      <td>1</td>\n",
       "      <td>0</td>\n",
       "      <td>102.98</td>\n",
       "    </tr>\n",
       "    <tr>\n",
       "      <th>18457</th>\n",
       "      <td>6cf884a6c5ae4b2daccb6d3108028fef</td>\n",
       "      <td>ae264e3637204a6fb9bb56bc8210ddfd</td>\n",
       "      <td>1</td>\n",
       "      <td>1</td>\n",
       "      <td>1</td>\n",
       "      <td>39.05</td>\n",
       "    </tr>\n",
       "  </tbody>\n",
       "</table>\n",
       "</div>"
      ],
      "text/plain": [
       "                            customer_id                          offer_id  \\\n",
       "18455  6cf884a6c5ae4b2daccb6d3108028fef  2298d6c36e964ae4a3e7e9706d1fb8c2   \n",
       "18456  6cf884a6c5ae4b2daccb6d3108028fef  5a8bc65990b245e5a138643cd4eb9837   \n",
       "18457  6cf884a6c5ae4b2daccb6d3108028fef  ae264e3637204a6fb9bb56bc8210ddfd   \n",
       "\n",
       "       event_offer_received  event_offer_viewed  event_offer_completed  amount  \n",
       "18455                     1                   1                      1   77.03  \n",
       "18456                     1                   1                      0  102.98  \n",
       "18457                     1                   1                      1   39.05  "
      ]
     },
     "execution_count": 71,
     "metadata": {},
     "output_type": "execute_result"
    }
   ],
   "source": [
    "customer_offer_event_profile_w_total_amount_before_event_trans_df[customer_offer_event_profile_w_total_amount_before_event_trans_df['customer_id'] == '6cf884a6c5ae4b2daccb6d3108028fef']"
   ]
  },
  {
   "cell_type": "code",
   "execution_count": 72,
   "metadata": {},
   "outputs": [],
   "source": [
    "customer_offer_event_profile_w_total_amount_before_event_trans_df.rename(columns = {'amount':'total_amount_before_transaction'}, inplace=True)"
   ]
  },
  {
   "cell_type": "markdown",
   "metadata": {},
   "source": [
    "Merge all 3 datasets to have dataset with all features"
   ]
  },
  {
   "cell_type": "code",
   "execution_count": 73,
   "metadata": {},
   "outputs": [],
   "source": [
    "transcripts_for_known_customers_w_total_amount_df = pd.merge(customer_offer_event_profile_w_total_amount_before_event_trans_df, profile, on='customer_id', how='inner')"
   ]
  },
  {
   "cell_type": "code",
   "execution_count": 74,
   "metadata": {},
   "outputs": [],
   "source": [
    "complete_starbucks_df_clean = pd.merge(transcripts_for_known_customers_w_total_amount_df, portfolio, on='offer_id', how='inner')"
   ]
  },
  {
   "cell_type": "markdown",
   "metadata": {},
   "source": [
    "Convert the customer loyalty days into a integer and not a timedelta field"
   ]
  },
  {
   "cell_type": "code",
   "execution_count": 75,
   "metadata": {},
   "outputs": [],
   "source": [
    "complete_starbucks_df_clean['customer_loyalty_days'] = complete_starbucks_df_clean['customer_loyalty_days'].dt.days"
   ]
  },
  {
   "cell_type": "code",
   "execution_count": 76,
   "metadata": {},
   "outputs": [
    {
     "name": "stdout",
     "output_type": "stream",
     "text": [
      "<class 'pandas.core.frame.DataFrame'>\n",
      "Int64Index: 38114 entries, 0 to 38113\n",
      "Data columns (total 22 columns):\n",
      " #   Column                           Non-Null Count  Dtype  \n",
      "---  ------                           --------------  -----  \n",
      " 0   customer_id                      38114 non-null  object \n",
      " 1   offer_id                         38114 non-null  object \n",
      " 2   event_offer_received             38114 non-null  uint8  \n",
      " 3   event_offer_viewed               38114 non-null  uint8  \n",
      " 4   event_offer_completed            38114 non-null  uint8  \n",
      " 5   total_amount_before_transaction  38114 non-null  float64\n",
      " 6   age                              38114 non-null  int64  \n",
      " 7   income                           38114 non-null  float64\n",
      " 8   customer_loyalty_days            38114 non-null  int64  \n",
      " 9   gender_F                         38114 non-null  uint8  \n",
      " 10  gender_M                         38114 non-null  uint8  \n",
      " 11  gender_O                         38114 non-null  uint8  \n",
      " 12  offer_reward                     38114 non-null  int64  \n",
      " 13  difficulty                       38114 non-null  int64  \n",
      " 14  duration                         38114 non-null  int64  \n",
      " 15  email                            38114 non-null  uint8  \n",
      " 16  mobile                           38114 non-null  uint8  \n",
      " 17  social                           38114 non-null  uint8  \n",
      " 18  web                              38114 non-null  uint8  \n",
      " 19  offer_type_bogo                  38114 non-null  uint8  \n",
      " 20  offer_type_discount              38114 non-null  uint8  \n",
      " 21  offer_type_informational         38114 non-null  uint8  \n",
      "dtypes: float64(2), int64(5), object(2), uint8(13)\n",
      "memory usage: 3.4+ MB\n"
     ]
    }
   ],
   "source": [
    "complete_starbucks_df_clean.info()"
   ]
  },
  {
   "cell_type": "markdown",
   "metadata": {},
   "source": [
    "When joining the datasets, the rows that will not have an offer_id will be the ones that have transcript reward. Since the analysis is not seeing whether the transcript reward matches with the offer reward, we will assume that this feature is ok to take from the porfolio data that has reward. We will then do an inner join to not have to manipulate the data more and have duplicated columns of reward. But to not loose the amount feature which seems to be a key feature to predict whether a customer will complete an offer or now, we have to update this feature. We will propagate the value so that the NaN values are completed with the total amount that corresponds that a customer has spent in total."
   ]
  },
  {
   "cell_type": "code",
   "execution_count": 77,
   "metadata": {},
   "outputs": [],
   "source": [
    "offer_groupby_for_male_df = complete_starbucks_df_clean[complete_starbucks_df_clean['gender_M'] == 1].groupby('offer_id').sum()\n",
    "offer_groupby_for_female_df = complete_starbucks_df_clean[complete_starbucks_df_clean['gender_F'] == 1].groupby('offer_id').sum()\n",
    "offer_groupby_for_other_df = complete_starbucks_df_clean[complete_starbucks_df_clean['gender_O'] == 1].groupby('offer_id').sum()"
   ]
  },
  {
   "cell_type": "code",
   "execution_count": 78,
   "metadata": {},
   "outputs": [],
   "source": [
    "df_gender_event_groupby = pd.concat([offer_groupby_for_male_df[['event_offer_completed','event_offer_viewed']].add_prefix('male_'), offer_groupby_for_female_df[['event_offer_completed','event_offer_viewed']].add_prefix('female_'),offer_groupby_for_other_df[['event_offer_completed','event_offer_viewed']].add_prefix('other_')], axis=1)"
   ]
  },
  {
   "cell_type": "code",
   "execution_count": 79,
   "metadata": {},
   "outputs": [
    {
     "data": {
      "image/png": "[encoded data removed]",
      "text/plain": [
       "<Figure size 2160x1440 with 1 Axes>"
      ]
     },
     "metadata": {
      "needs_background": "light"
     },
     "output_type": "display_data"
    }
   ],
   "source": [
    "df_gender_event_groupby.plot(kind='bar', y=['male_event_offer_completed','female_event_offer_completed','other_event_offer_completed'], label=['male', 'female', 'other'])\n",
    "plt.title('Gender based distribution Offer completed')\n",
    "plt.rcParams[\"figure.figsize\"] = (30,20)\n",
    "plt.ylabel('count')\n",
    "plt.xlabel('Offer');"
   ]
  },
  {
   "cell_type": "code",
   "execution_count": 80,
   "metadata": {},
   "outputs": [
    {
     "data": {
      "text/html": [
       "<div>\n",
       "<style scoped>\n",
       "    .dataframe tbody tr th:only-of-type {\n",
       "        vertical-align: middle;\n",
       "    }\n",
       "\n",
       "    .dataframe tbody tr th {\n",
       "        vertical-align: top;\n",
       "    }\n",
       "\n",
       "    .dataframe thead th {\n",
       "        text-align: right;\n",
       "    }\n",
       "</style>\n",
       "<table border=\"1\" class=\"dataframe\">\n",
       "  <thead>\n",
       "    <tr style=\"text-align: right;\">\n",
       "      <th></th>\n",
       "      <th>male_event_offer_completed</th>\n",
       "      <th>male_event_offer_viewed</th>\n",
       "      <th>female_event_offer_completed</th>\n",
       "      <th>female_event_offer_viewed</th>\n",
       "      <th>other_event_offer_completed</th>\n",
       "      <th>other_event_offer_viewed</th>\n",
       "    </tr>\n",
       "    <tr>\n",
       "      <th>offer_id</th>\n",
       "      <th></th>\n",
       "      <th></th>\n",
       "      <th></th>\n",
       "      <th></th>\n",
       "      <th></th>\n",
       "      <th></th>\n",
       "    </tr>\n",
       "  </thead>\n",
       "  <tbody>\n",
       "    <tr>\n",
       "      <th>0b1e1539f2cc45b7b9fa7c272da2e1d7</th>\n",
       "      <td>1030.0</td>\n",
       "      <td>690.0</td>\n",
       "      <td>1052.0</td>\n",
       "      <td>588.0</td>\n",
       "      <td>39</td>\n",
       "      <td>31</td>\n",
       "    </tr>\n",
       "    <tr>\n",
       "      <th>2298d6c36e964ae4a3e7e9706d1fb8c2</th>\n",
       "      <td>1661.0</td>\n",
       "      <td>2145.0</td>\n",
       "      <td>1326.0</td>\n",
       "      <td>1481.0</td>\n",
       "      <td>41</td>\n",
       "      <td>50</td>\n",
       "    </tr>\n",
       "    <tr>\n",
       "      <th>2906b810c7d4411798c6938adc9daaa5</th>\n",
       "      <td>1283.0</td>\n",
       "      <td>1061.0</td>\n",
       "      <td>1168.0</td>\n",
       "      <td>902.0</td>\n",
       "      <td>35</td>\n",
       "      <td>39</td>\n",
       "    </tr>\n",
       "    <tr>\n",
       "      <th>3f207df678b143eea3cee63160fa8bed</th>\n",
       "      <td>0.0</td>\n",
       "      <td>1088.0</td>\n",
       "      <td>0.0</td>\n",
       "      <td>897.0</td>\n",
       "      <td>0</td>\n",
       "      <td>37</td>\n",
       "    </tr>\n",
       "    <tr>\n",
       "      <th>4d5c57ea9a6940dd891ad53e9dbe8da0</th>\n",
       "      <td>983.0</td>\n",
       "      <td>2137.0</td>\n",
       "      <td>1054.0</td>\n",
       "      <td>1489.0</td>\n",
       "      <td>30</td>\n",
       "      <td>43</td>\n",
       "    </tr>\n",
       "    <tr>\n",
       "      <th>5a8bc65990b245e5a138643cd4eb9837</th>\n",
       "      <td>0.0</td>\n",
       "      <td>2011.0</td>\n",
       "      <td>0.0</td>\n",
       "      <td>1371.0</td>\n",
       "      <td>0</td>\n",
       "      <td>56</td>\n",
       "    </tr>\n",
       "    <tr>\n",
       "      <th>9b98b8c7a33c4b65b9aebfe6a799e6d9</th>\n",
       "      <td>1404.0</td>\n",
       "      <td>1148.0</td>\n",
       "      <td>1255.0</td>\n",
       "      <td>907.0</td>\n",
       "      <td>43</td>\n",
       "      <td>42</td>\n",
       "    </tr>\n",
       "    <tr>\n",
       "      <th>ae264e3637204a6fb9bb56bc8210ddfd</th>\n",
       "      <td>1078.0</td>\n",
       "      <td>2003.0</td>\n",
       "      <td>1141.0</td>\n",
       "      <td>1336.0</td>\n",
       "      <td>37</td>\n",
       "      <td>48</td>\n",
       "    </tr>\n",
       "    <tr>\n",
       "      <th>f19421c1d4aa40978ebb69ca19b0e20d</th>\n",
       "      <td>1358.0</td>\n",
       "      <td>2068.0</td>\n",
       "      <td>1150.0</td>\n",
       "      <td>1452.0</td>\n",
       "      <td>44</td>\n",
       "      <td>52</td>\n",
       "    </tr>\n",
       "    <tr>\n",
       "      <th>fafdcd668e3743c1bb461111dcafc2a4</th>\n",
       "      <td>1614.0</td>\n",
       "      <td>2080.0</td>\n",
       "      <td>1327.0</td>\n",
       "      <td>1486.0</td>\n",
       "      <td>34</td>\n",
       "      <td>43</td>\n",
       "    </tr>\n",
       "  </tbody>\n",
       "</table>\n",
       "</div>"
      ],
      "text/plain": [
       "                                  male_event_offer_completed  \\\n",
       "offer_id                                                       \n",
       "0b1e1539f2cc45b7b9fa7c272da2e1d7                      1030.0   \n",
       "2298d6c36e964ae4a3e7e9706d1fb8c2                      1661.0   \n",
       "2906b810c7d4411798c6938adc9daaa5                      1283.0   \n",
       "3f207df678b143eea3cee63160fa8bed                         0.0   \n",
       "4d5c57ea9a6940dd891ad53e9dbe8da0                       983.0   \n",
       "5a8bc65990b245e5a138643cd4eb9837                         0.0   \n",
       "9b98b8c7a33c4b65b9aebfe6a799e6d9                      1404.0   \n",
       "ae264e3637204a6fb9bb56bc8210ddfd                      1078.0   \n",
       "f19421c1d4aa40978ebb69ca19b0e20d                      1358.0   \n",
       "fafdcd668e3743c1bb461111dcafc2a4                      1614.0   \n",
       "\n",
       "                                  male_event_offer_viewed  \\\n",
       "offer_id                                                    \n",
       "0b1e1539f2cc45b7b9fa7c272da2e1d7                    690.0   \n",
       "2298d6c36e964ae4a3e7e9706d1fb8c2                   2145.0   \n",
       "2906b810c7d4411798c6938adc9daaa5                   1061.0   \n",
       "3f207df678b143eea3cee63160fa8bed                   1088.0   \n",
       "4d5c57ea9a6940dd891ad53e9dbe8da0                   2137.0   \n",
       "5a8bc65990b245e5a138643cd4eb9837                   2011.0   \n",
       "9b98b8c7a33c4b65b9aebfe6a799e6d9                   1148.0   \n",
       "ae264e3637204a6fb9bb56bc8210ddfd                   2003.0   \n",
       "f19421c1d4aa40978ebb69ca19b0e20d                   2068.0   \n",
       "fafdcd668e3743c1bb461111dcafc2a4                   2080.0   \n",
       "\n",
       "                                  female_event_offer_completed  \\\n",
       "offer_id                                                         \n",
       "0b1e1539f2cc45b7b9fa7c272da2e1d7                        1052.0   \n",
       "2298d6c36e964ae4a3e7e9706d1fb8c2                        1326.0   \n",
       "2906b810c7d4411798c6938adc9daaa5                        1168.0   \n",
       "3f207df678b143eea3cee63160fa8bed                           0.0   \n",
       "4d5c57ea9a6940dd891ad53e9dbe8da0                        1054.0   \n",
       "5a8bc65990b245e5a138643cd4eb9837                           0.0   \n",
       "9b98b8c7a33c4b65b9aebfe6a799e6d9                        1255.0   \n",
       "ae264e3637204a6fb9bb56bc8210ddfd                        1141.0   \n",
       "f19421c1d4aa40978ebb69ca19b0e20d                        1150.0   \n",
       "fafdcd668e3743c1bb461111dcafc2a4                        1327.0   \n",
       "\n",
       "                                  female_event_offer_viewed  \\\n",
       "offer_id                                                      \n",
       "0b1e1539f2cc45b7b9fa7c272da2e1d7                      588.0   \n",
       "2298d6c36e964ae4a3e7e9706d1fb8c2                     1481.0   \n",
       "2906b810c7d4411798c6938adc9daaa5                      902.0   \n",
       "3f207df678b143eea3cee63160fa8bed                      897.0   \n",
       "4d5c57ea9a6940dd891ad53e9dbe8da0                     1489.0   \n",
       "5a8bc65990b245e5a138643cd4eb9837                     1371.0   \n",
       "9b98b8c7a33c4b65b9aebfe6a799e6d9                      907.0   \n",
       "ae264e3637204a6fb9bb56bc8210ddfd                     1336.0   \n",
       "f19421c1d4aa40978ebb69ca19b0e20d                     1452.0   \n",
       "fafdcd668e3743c1bb461111dcafc2a4                     1486.0   \n",
       "\n",
       "                                  other_event_offer_completed  \\\n",
       "offer_id                                                        \n",
       "0b1e1539f2cc45b7b9fa7c272da2e1d7                           39   \n",
       "2298d6c36e964ae4a3e7e9706d1fb8c2                           41   \n",
       "2906b810c7d4411798c6938adc9daaa5                           35   \n",
       "3f207df678b143eea3cee63160fa8bed                            0   \n",
       "4d5c57ea9a6940dd891ad53e9dbe8da0                           30   \n",
       "5a8bc65990b245e5a138643cd4eb9837                            0   \n",
       "9b98b8c7a33c4b65b9aebfe6a799e6d9                           43   \n",
       "ae264e3637204a6fb9bb56bc8210ddfd                           37   \n",
       "f19421c1d4aa40978ebb69ca19b0e20d                           44   \n",
       "fafdcd668e3743c1bb461111dcafc2a4                           34   \n",
       "\n",
       "                                  other_event_offer_viewed  \n",
       "offer_id                                                    \n",
       "0b1e1539f2cc45b7b9fa7c272da2e1d7                        31  \n",
       "2298d6c36e964ae4a3e7e9706d1fb8c2                        50  \n",
       "2906b810c7d4411798c6938adc9daaa5                        39  \n",
       "3f207df678b143eea3cee63160fa8bed                        37  \n",
       "4d5c57ea9a6940dd891ad53e9dbe8da0                        43  \n",
       "5a8bc65990b245e5a138643cd4eb9837                        56  \n",
       "9b98b8c7a33c4b65b9aebfe6a799e6d9                        42  \n",
       "ae264e3637204a6fb9bb56bc8210ddfd                        48  \n",
       "f19421c1d4aa40978ebb69ca19b0e20d                        52  \n",
       "fafdcd668e3743c1bb461111dcafc2a4                        43  "
      ]
     },
     "execution_count": 80,
     "metadata": {},
     "output_type": "execute_result"
    }
   ],
   "source": [
    "df_gender_event_groupby"
   ]
  },
  {
   "cell_type": "markdown",
   "metadata": {},
   "source": [
    "Many conclusions can be drawn from this first part of analysis. We can also conduct te same type of heuristics to finally suggest what demographic groups are more sensitive to which offers. Initially here we can see that the infromational offers don't generate any completed offer transactions. In this project the focus will be more on developing the code for the predictive model to be able to target at wheteher an offer will be completed or not. We will look at what features from all the ones defined above are best for prediciting whether an offer will be completed or not. For this we will first normalize data, use SelectKBest features to just keep those features that have the highest scores and then define the model that will give us the best accuracy score. For this we will first split the data into train and test so we can then validate our model. The focus here is to define the predicitive model, all other steps at this stage will not be given that much importance. "
   ]
  },
  {
   "cell_type": "code",
   "execution_count": 81,
   "metadata": {},
   "outputs": [
    {
     "data": {
      "text/plain": [
       "customer_id                        0\n",
       "offer_id                           0\n",
       "event_offer_received               0\n",
       "event_offer_viewed                 0\n",
       "event_offer_completed              0\n",
       "total_amount_before_transaction    0\n",
       "age                                0\n",
       "income                             0\n",
       "customer_loyalty_days              0\n",
       "gender_F                           0\n",
       "gender_M                           0\n",
       "gender_O                           0\n",
       "offer_reward                       0\n",
       "difficulty                         0\n",
       "duration                           0\n",
       "email                              0\n",
       "mobile                             0\n",
       "social                             0\n",
       "web                                0\n",
       "offer_type_bogo                    0\n",
       "offer_type_discount                0\n",
       "offer_type_informational           0\n",
       "dtype: int64"
      ]
     },
     "execution_count": 81,
     "metadata": {},
     "output_type": "execute_result"
    }
   ],
   "source": [
    "complete_starbucks_df_clean.isna().sum()"
   ]
  },
  {
   "cell_type": "markdown",
   "metadata": {},
   "source": [
    "__Select features and build Predicitive Model for Offer completion__"
   ]
  },
  {
   "cell_type": "code",
   "execution_count": 82,
   "metadata": {},
   "outputs": [
    {
     "name": "stdout",
     "output_type": "stream",
     "text": [
      "<class 'pandas.core.frame.DataFrame'>\n",
      "Int64Index: 38114 entries, 0 to 38113\n",
      "Data columns (total 22 columns):\n",
      " #   Column                           Non-Null Count  Dtype  \n",
      "---  ------                           --------------  -----  \n",
      " 0   customer_id                      38114 non-null  object \n",
      " 1   offer_id                         38114 non-null  object \n",
      " 2   event_offer_received             38114 non-null  uint8  \n",
      " 3   event_offer_viewed               38114 non-null  uint8  \n",
      " 4   event_offer_completed            38114 non-null  uint8  \n",
      " 5   total_amount_before_transaction  38114 non-null  float64\n",
      " 6   age                              38114 non-null  int64  \n",
      " 7   income                           38114 non-null  float64\n",
      " 8   customer_loyalty_days            38114 non-null  int64  \n",
      " 9   gender_F                         38114 non-null  uint8  \n",
      " 10  gender_M                         38114 non-null  uint8  \n",
      " 11  gender_O                         38114 non-null  uint8  \n",
      " 12  offer_reward                     38114 non-null  int64  \n",
      " 13  difficulty                       38114 non-null  int64  \n",
      " 14  duration                         38114 non-null  int64  \n",
      " 15  email                            38114 non-null  uint8  \n",
      " 16  mobile                           38114 non-null  uint8  \n",
      " 17  social                           38114 non-null  uint8  \n",
      " 18  web                              38114 non-null  uint8  \n",
      " 19  offer_type_bogo                  38114 non-null  uint8  \n",
      " 20  offer_type_discount              38114 non-null  uint8  \n",
      " 21  offer_type_informational         38114 non-null  uint8  \n",
      "dtypes: float64(2), int64(5), object(2), uint8(13)\n",
      "memory usage: 3.4+ MB\n"
     ]
    }
   ],
   "source": [
    "complete_starbucks_df_clean.info()"
   ]
  },
  {
   "cell_type": "markdown",
   "metadata": {},
   "source": [
    "For the features we will select all except for the target Y which will be event_offer_completion and customer_id and offer_id"
   ]
  },
  {
   "cell_type": "code",
   "execution_count": 83,
   "metadata": {},
   "outputs": [],
   "source": [
    "features = complete_starbucks_df_clean.drop(columns=['offer_id','customer_id','event_offer_completed'])\n",
    "target = complete_starbucks_df_clean['event_offer_completed']"
   ]
  },
  {
   "cell_type": "code",
   "execution_count": 84,
   "metadata": {},
   "outputs": [
    {
     "data": {
      "text/html": [
       "<div>\n",
       "<style scoped>\n",
       "    .dataframe tbody tr th:only-of-type {\n",
       "        vertical-align: middle;\n",
       "    }\n",
       "\n",
       "    .dataframe tbody tr th {\n",
       "        vertical-align: top;\n",
       "    }\n",
       "\n",
       "    .dataframe thead th {\n",
       "        text-align: right;\n",
       "    }\n",
       "</style>\n",
       "<table border=\"1\" class=\"dataframe\">\n",
       "  <thead>\n",
       "    <tr style=\"text-align: right;\">\n",
       "      <th></th>\n",
       "      <th>event_offer_received</th>\n",
       "      <th>event_offer_viewed</th>\n",
       "      <th>total_amount_before_transaction</th>\n",
       "      <th>age</th>\n",
       "      <th>income</th>\n",
       "      <th>customer_loyalty_days</th>\n",
       "      <th>gender_F</th>\n",
       "      <th>gender_M</th>\n",
       "      <th>gender_O</th>\n",
       "      <th>offer_reward</th>\n",
       "      <th>difficulty</th>\n",
       "      <th>duration</th>\n",
       "      <th>email</th>\n",
       "      <th>mobile</th>\n",
       "      <th>social</th>\n",
       "      <th>web</th>\n",
       "      <th>offer_type_bogo</th>\n",
       "      <th>offer_type_discount</th>\n",
       "      <th>offer_type_informational</th>\n",
       "    </tr>\n",
       "  </thead>\n",
       "  <tbody>\n",
       "    <tr>\n",
       "      <th>0</th>\n",
       "      <td>1</td>\n",
       "      <td>0</td>\n",
       "      <td>58.40</td>\n",
       "      <td>33</td>\n",
       "      <td>72000.0</td>\n",
       "      <td>2217</td>\n",
       "      <td>0</td>\n",
       "      <td>1</td>\n",
       "      <td>0</td>\n",
       "      <td>2</td>\n",
       "      <td>10</td>\n",
       "      <td>7</td>\n",
       "      <td>1</td>\n",
       "      <td>1</td>\n",
       "      <td>0</td>\n",
       "      <td>1</td>\n",
       "      <td>0</td>\n",
       "      <td>1</td>\n",
       "      <td>0</td>\n",
       "    </tr>\n",
       "    <tr>\n",
       "      <th>1</th>\n",
       "      <td>1</td>\n",
       "      <td>0</td>\n",
       "      <td>60.67</td>\n",
       "      <td>19</td>\n",
       "      <td>65000.0</td>\n",
       "      <td>2472</td>\n",
       "      <td>1</td>\n",
       "      <td>0</td>\n",
       "      <td>0</td>\n",
       "      <td>2</td>\n",
       "      <td>10</td>\n",
       "      <td>7</td>\n",
       "      <td>1</td>\n",
       "      <td>1</td>\n",
       "      <td>0</td>\n",
       "      <td>1</td>\n",
       "      <td>0</td>\n",
       "      <td>1</td>\n",
       "      <td>0</td>\n",
       "    </tr>\n",
       "    <tr>\n",
       "      <th>2</th>\n",
       "      <td>1</td>\n",
       "      <td>0</td>\n",
       "      <td>9.71</td>\n",
       "      <td>56</td>\n",
       "      <td>47000.0</td>\n",
       "      <td>1985</td>\n",
       "      <td>0</td>\n",
       "      <td>1</td>\n",
       "      <td>0</td>\n",
       "      <td>2</td>\n",
       "      <td>10</td>\n",
       "      <td>7</td>\n",
       "      <td>1</td>\n",
       "      <td>1</td>\n",
       "      <td>0</td>\n",
       "      <td>1</td>\n",
       "      <td>0</td>\n",
       "      <td>1</td>\n",
       "      <td>0</td>\n",
       "    </tr>\n",
       "    <tr>\n",
       "      <th>3</th>\n",
       "      <td>1</td>\n",
       "      <td>1</td>\n",
       "      <td>307.30</td>\n",
       "      <td>58</td>\n",
       "      <td>119000.0</td>\n",
       "      <td>1987</td>\n",
       "      <td>1</td>\n",
       "      <td>0</td>\n",
       "      <td>0</td>\n",
       "      <td>2</td>\n",
       "      <td>10</td>\n",
       "      <td>7</td>\n",
       "      <td>1</td>\n",
       "      <td>1</td>\n",
       "      <td>0</td>\n",
       "      <td>1</td>\n",
       "      <td>0</td>\n",
       "      <td>1</td>\n",
       "      <td>0</td>\n",
       "    </tr>\n",
       "    <tr>\n",
       "      <th>4</th>\n",
       "      <td>1</td>\n",
       "      <td>0</td>\n",
       "      <td>5.95</td>\n",
       "      <td>24</td>\n",
       "      <td>42000.0</td>\n",
       "      <td>2075</td>\n",
       "      <td>0</td>\n",
       "      <td>1</td>\n",
       "      <td>0</td>\n",
       "      <td>2</td>\n",
       "      <td>10</td>\n",
       "      <td>7</td>\n",
       "      <td>1</td>\n",
       "      <td>1</td>\n",
       "      <td>0</td>\n",
       "      <td>1</td>\n",
       "      <td>0</td>\n",
       "      <td>1</td>\n",
       "      <td>0</td>\n",
       "    </tr>\n",
       "    <tr>\n",
       "      <th>...</th>\n",
       "      <td>...</td>\n",
       "      <td>...</td>\n",
       "      <td>...</td>\n",
       "      <td>...</td>\n",
       "      <td>...</td>\n",
       "      <td>...</td>\n",
       "      <td>...</td>\n",
       "      <td>...</td>\n",
       "      <td>...</td>\n",
       "      <td>...</td>\n",
       "      <td>...</td>\n",
       "      <td>...</td>\n",
       "      <td>...</td>\n",
       "      <td>...</td>\n",
       "      <td>...</td>\n",
       "      <td>...</td>\n",
       "      <td>...</td>\n",
       "      <td>...</td>\n",
       "      <td>...</td>\n",
       "    </tr>\n",
       "    <tr>\n",
       "      <th>38109</th>\n",
       "      <td>1</td>\n",
       "      <td>1</td>\n",
       "      <td>12.84</td>\n",
       "      <td>37</td>\n",
       "      <td>70000.0</td>\n",
       "      <td>2250</td>\n",
       "      <td>0</td>\n",
       "      <td>1</td>\n",
       "      <td>0</td>\n",
       "      <td>10</td>\n",
       "      <td>10</td>\n",
       "      <td>7</td>\n",
       "      <td>1</td>\n",
       "      <td>1</td>\n",
       "      <td>1</td>\n",
       "      <td>0</td>\n",
       "      <td>1</td>\n",
       "      <td>0</td>\n",
       "      <td>0</td>\n",
       "    </tr>\n",
       "    <tr>\n",
       "      <th>38110</th>\n",
       "      <td>1</td>\n",
       "      <td>1</td>\n",
       "      <td>74.97</td>\n",
       "      <td>57</td>\n",
       "      <td>92000.0</td>\n",
       "      <td>1907</td>\n",
       "      <td>0</td>\n",
       "      <td>1</td>\n",
       "      <td>0</td>\n",
       "      <td>10</td>\n",
       "      <td>10</td>\n",
       "      <td>7</td>\n",
       "      <td>1</td>\n",
       "      <td>1</td>\n",
       "      <td>1</td>\n",
       "      <td>0</td>\n",
       "      <td>1</td>\n",
       "      <td>0</td>\n",
       "      <td>0</td>\n",
       "    </tr>\n",
       "    <tr>\n",
       "      <th>38111</th>\n",
       "      <td>1</td>\n",
       "      <td>1</td>\n",
       "      <td>42.61</td>\n",
       "      <td>40</td>\n",
       "      <td>32000.0</td>\n",
       "      <td>2281</td>\n",
       "      <td>0</td>\n",
       "      <td>1</td>\n",
       "      <td>0</td>\n",
       "      <td>10</td>\n",
       "      <td>10</td>\n",
       "      <td>7</td>\n",
       "      <td>1</td>\n",
       "      <td>1</td>\n",
       "      <td>1</td>\n",
       "      <td>0</td>\n",
       "      <td>1</td>\n",
       "      <td>0</td>\n",
       "      <td>0</td>\n",
       "    </tr>\n",
       "    <tr>\n",
       "      <th>38112</th>\n",
       "      <td>1</td>\n",
       "      <td>1</td>\n",
       "      <td>154.31</td>\n",
       "      <td>67</td>\n",
       "      <td>77000.0</td>\n",
       "      <td>2278</td>\n",
       "      <td>1</td>\n",
       "      <td>0</td>\n",
       "      <td>0</td>\n",
       "      <td>10</td>\n",
       "      <td>10</td>\n",
       "      <td>7</td>\n",
       "      <td>1</td>\n",
       "      <td>1</td>\n",
       "      <td>1</td>\n",
       "      <td>0</td>\n",
       "      <td>1</td>\n",
       "      <td>0</td>\n",
       "      <td>0</td>\n",
       "    </tr>\n",
       "    <tr>\n",
       "      <th>38113</th>\n",
       "      <td>1</td>\n",
       "      <td>1</td>\n",
       "      <td>16.05</td>\n",
       "      <td>71</td>\n",
       "      <td>73000.0</td>\n",
       "      <td>2024</td>\n",
       "      <td>0</td>\n",
       "      <td>1</td>\n",
       "      <td>0</td>\n",
       "      <td>10</td>\n",
       "      <td>10</td>\n",
       "      <td>7</td>\n",
       "      <td>1</td>\n",
       "      <td>1</td>\n",
       "      <td>1</td>\n",
       "      <td>0</td>\n",
       "      <td>1</td>\n",
       "      <td>0</td>\n",
       "      <td>0</td>\n",
       "    </tr>\n",
       "  </tbody>\n",
       "</table>\n",
       "<p>38114 rows × 19 columns</p>\n",
       "</div>"
      ],
      "text/plain": [
       "       event_offer_received  event_offer_viewed  \\\n",
       "0                         1                   0   \n",
       "1                         1                   0   \n",
       "2                         1                   0   \n",
       "3                         1                   1   \n",
       "4                         1                   0   \n",
       "...                     ...                 ...   \n",
       "38109                     1                   1   \n",
       "38110                     1                   1   \n",
       "38111                     1                   1   \n",
       "38112                     1                   1   \n",
       "38113                     1                   1   \n",
       "\n",
       "       total_amount_before_transaction  age    income  customer_loyalty_days  \\\n",
       "0                                58.40   33   72000.0                   2217   \n",
       "1                                60.67   19   65000.0                   2472   \n",
       "2                                 9.71   56   47000.0                   1985   \n",
       "3                               307.30   58  119000.0                   1987   \n",
       "4                                 5.95   24   42000.0                   2075   \n",
       "...                                ...  ...       ...                    ...   \n",
       "38109                            12.84   37   70000.0                   2250   \n",
       "38110                            74.97   57   92000.0                   1907   \n",
       "38111                            42.61   40   32000.0                   2281   \n",
       "38112                           154.31   67   77000.0                   2278   \n",
       "38113                            16.05   71   73000.0                   2024   \n",
       "\n",
       "       gender_F  gender_M  gender_O  offer_reward  difficulty  duration  \\\n",
       "0             0         1         0             2          10         7   \n",
       "1             1         0         0             2          10         7   \n",
       "2             0         1         0             2          10         7   \n",
       "3             1         0         0             2          10         7   \n",
       "4             0         1         0             2          10         7   \n",
       "...         ...       ...       ...           ...         ...       ...   \n",
       "38109         0         1         0            10          10         7   \n",
       "38110         0         1         0            10          10         7   \n",
       "38111         0         1         0            10          10         7   \n",
       "38112         1         0         0            10          10         7   \n",
       "38113         0         1         0            10          10         7   \n",
       "\n",
       "       email  mobile  social  web  offer_type_bogo  offer_type_discount  \\\n",
       "0          1       1       0    1                0                    1   \n",
       "1          1       1       0    1                0                    1   \n",
       "2          1       1       0    1                0                    1   \n",
       "3          1       1       0    1                0                    1   \n",
       "4          1       1       0    1                0                    1   \n",
       "...      ...     ...     ...  ...              ...                  ...   \n",
       "38109      1       1       1    0                1                    0   \n",
       "38110      1       1       1    0                1                    0   \n",
       "38111      1       1       1    0                1                    0   \n",
       "38112      1       1       1    0                1                    0   \n",
       "38113      1       1       1    0                1                    0   \n",
       "\n",
       "       offer_type_informational  \n",
       "0                             0  \n",
       "1                             0  \n",
       "2                             0  \n",
       "3                             0  \n",
       "4                             0  \n",
       "...                         ...  \n",
       "38109                         0  \n",
       "38110                         0  \n",
       "38111                         0  \n",
       "38112                         0  \n",
       "38113                         0  \n",
       "\n",
       "[38114 rows x 19 columns]"
      ]
     },
     "execution_count": 84,
     "metadata": {},
     "output_type": "execute_result"
    }
   ],
   "source": [
    "features"
   ]
  },
  {
   "cell_type": "code",
   "execution_count": 85,
   "metadata": {
    "scrolled": true
   },
   "outputs": [
    {
     "name": "stdout",
     "output_type": "stream",
     "text": [
      "<class 'pandas.core.frame.DataFrame'>\n",
      "Int64Index: 38114 entries, 0 to 38113\n",
      "Data columns (total 19 columns):\n",
      " #   Column                           Non-Null Count  Dtype  \n",
      "---  ------                           --------------  -----  \n",
      " 0   event_offer_received             38114 non-null  uint8  \n",
      " 1   event_offer_viewed               38114 non-null  uint8  \n",
      " 2   total_amount_before_transaction  38114 non-null  float64\n",
      " 3   age                              38114 non-null  int64  \n",
      " 4   income                           38114 non-null  float64\n",
      " 5   customer_loyalty_days            38114 non-null  int64  \n",
      " 6   gender_F                         38114 non-null  uint8  \n",
      " 7   gender_M                         38114 non-null  uint8  \n",
      " 8   gender_O                         38114 non-null  uint8  \n",
      " 9   offer_reward                     38114 non-null  int64  \n",
      " 10  difficulty                       38114 non-null  int64  \n",
      " 11  duration                         38114 non-null  int64  \n",
      " 12  email                            38114 non-null  uint8  \n",
      " 13  mobile                           38114 non-null  uint8  \n",
      " 14  social                           38114 non-null  uint8  \n",
      " 15  web                              38114 non-null  uint8  \n",
      " 16  offer_type_bogo                  38114 non-null  uint8  \n",
      " 17  offer_type_discount              38114 non-null  uint8  \n",
      " 18  offer_type_informational         38114 non-null  uint8  \n",
      "dtypes: float64(2), int64(5), uint8(12)\n",
      "memory usage: 2.8 MB\n"
     ]
    }
   ],
   "source": [
    "features.info()"
   ]
  },
  {
   "cell_type": "code",
   "execution_count": 132,
   "metadata": {},
   "outputs": [],
   "source": [
    "\n",
    "X_train, X_test, y_train, y_test = train_test_split(features, target, test_size=0.3, random_state=42)"
   ]
  },
  {
   "cell_type": "code",
   "execution_count": 133,
   "metadata": {},
   "outputs": [],
   "source": [
    "scaler = StandardScaler()"
   ]
  },
  {
   "cell_type": "code",
   "execution_count": 134,
   "metadata": {},
   "outputs": [],
   "source": [
    "X_train = scaler.fit_transform(X_train)\n",
    "X_test = scaler.fit_transform(X_test)"
   ]
  },
  {
   "cell_type": "markdown",
   "metadata": {},
   "source": [
    "We perform a comparision of several classifiers and perform hyperparamter tuning for them to oprtimize for the best f1 score. This is the metric we optimize, since the f1 score is a way to take into account both precision and recall and therefore the metric that compensantes and optimized the full picture."
   ]
  },
  {
   "cell_type": "markdown",
   "metadata": {},
   "source": [
    "Firt we will not tune the hyperparameters but use the default values in order to get the classifier with the best score and then we will perform hypterparameter tuning over this classifier to optimize computational efforts."
   ]
  },
  {
   "cell_type": "code",
   "execution_count": 117,
   "metadata": {},
   "outputs": [],
   "source": [
    "def classifier_fit (model, param_grid, X_train, y_train): \n",
    "\n",
    "    grid = GridSearchCV(estimator=model, param_grid=param_grid, scoring='f1', cv=5)\n",
    "    grid.fit(X_train, y_train)\n",
    "    \n",
    "    return grid.best_score_, grid.best_estimator_, grid.best_params_, grid"
   ]
  },
  {
   "cell_type": "code",
   "execution_count": 118,
   "metadata": {},
   "outputs": [],
   "source": [
    "best_score_randomforest, best_estimator_randomforest, best_params_randomforest, grid_randomforest = classifier_fit (model=RandomForestClassifier(random_state = 42),param_grid = {}, X_train=X_train, y_train=y_train)\n",
    "best_score_KNN, best_estimator_KNN, best_params_KNN, grid_KNN = classifier_fit (model=KNeighborsClassifier(),param_grid = {}, X_train=X_train, y_train=y_train)\n",
    "best_score_GaussianNB, best_estimator_GaussianNB, best_params_GaussianNB, grid_GaussianNB = classifier_fit (model=GaussianNB(),param_grid = {}, X_train=X_train, y_train=y_train)\n",
    "best_score_DecisionTreeClassifier, best_estimator_DecisionTreeClassifier, best_params_DecisionTreeClassifier, grid_DecisionTreeClassifier = classifier_fit (model=DecisionTreeClassifier(random_state = 42),param_grid = {}, X_train=X_train, y_train=y_train)\n",
    "best_score_SVC, best_estimator_SVC, best_params_SVC, grid_SVC = classifier_fit (model=SVC(),param_grid = {}, X_train=X_train, y_train=y_train)\n",
    "best_score_AdaBoostClassifier, best_estimator_AdaBoostClassifier, best_params_AdaBoostClassifier, grid_AdaBoostClassifier = classifier_fit (model=AdaBoostClassifier(random_state = 42),param_grid = {}, X_train=X_train, y_train=y_train)\n"
   ]
  },
  {
   "cell_type": "code",
   "execution_count": 91,
   "metadata": {},
   "outputs": [
    {
     "data": {
      "text/plain": [
       "0.8409429067463577"
      ]
     },
     "execution_count": 91,
     "metadata": {},
     "output_type": "execute_result"
    }
   ],
   "source": [
    "best_score_randomforest"
   ]
  },
  {
   "cell_type": "code",
   "execution_count": 92,
   "metadata": {},
   "outputs": [
    {
     "data": {
      "text/plain": [
       "0.8171352612651528"
      ]
     },
     "execution_count": 92,
     "metadata": {},
     "output_type": "execute_result"
    }
   ],
   "source": [
    "best_score_KNN"
   ]
  },
  {
   "cell_type": "code",
   "execution_count": 93,
   "metadata": {},
   "outputs": [
    {
     "data": {
      "text/plain": [
       "0.7973372264785442"
      ]
     },
     "execution_count": 93,
     "metadata": {},
     "output_type": "execute_result"
    }
   ],
   "source": [
    "best_score_GaussianNB"
   ]
  },
  {
   "cell_type": "code",
   "execution_count": 94,
   "metadata": {},
   "outputs": [
    {
     "data": {
      "text/plain": [
       "0.7827045165122728"
      ]
     },
     "execution_count": 94,
     "metadata": {},
     "output_type": "execute_result"
    }
   ],
   "source": [
    "best_score_DecisionTreeClassifier"
   ]
  },
  {
   "cell_type": "code",
   "execution_count": 95,
   "metadata": {},
   "outputs": [
    {
     "data": {
      "text/plain": [
       "0.843274992563997"
      ]
     },
     "execution_count": 95,
     "metadata": {},
     "output_type": "execute_result"
    }
   ],
   "source": [
    "best_score_SVC"
   ]
  },
  {
   "cell_type": "code",
   "execution_count": 96,
   "metadata": {},
   "outputs": [
    {
     "data": {
      "text/plain": [
       "0.8393592721654098"
      ]
     },
     "execution_count": 96,
     "metadata": {},
     "output_type": "execute_result"
    }
   ],
   "source": [
    "best_score_AdaBoostClassifier"
   ]
  },
  {
   "cell_type": "markdown",
   "metadata": {},
   "source": [
    "Hyperparameter tuning for the best 2 models with highest f1 score which are SVC and RandomForestClassifier."
   ]
  },
  {
   "cell_type": "code",
   "execution_count": 97,
   "metadata": {},
   "outputs": [],
   "source": [
    "param_grid_random_forest= {'min_samples_leaf': [1, 4],\n",
    " 'min_samples_split': [2, 10],\n",
    " 'n_estimators': [200, 2000]}"
   ]
  },
  {
   "cell_type": "code",
   "execution_count": 98,
   "metadata": {},
   "outputs": [],
   "source": [
    "param_grid_SVC = {\n",
    "    \"kernel\": [\"linear\",\"rbf\"],\n",
    "    \"C\":[0.1,1,10]\n",
    "}"
   ]
  },
  {
   "cell_type": "code",
   "execution_count": 99,
   "metadata": {},
   "outputs": [],
   "source": [
    "best_score_refined_SVC, best_estimator_refined_SVC, best_params_refined_SVC, grid_refined_SVC = classifier_fit (model=SVC(),param_grid = param_grid_SVC, X_train=X_train, y_train=y_train)"
   ]
  },
  {
   "cell_type": "code",
   "execution_count": 119,
   "metadata": {},
   "outputs": [],
   "source": [
    "best_score_refined_randomforest, best_estimator_refined_randomforest, best_params_refined_randomforest, grid_randomforest = classifier_fit (model=RandomForestClassifier(random_state = 42),param_grid = param_grid_random_forest, X_train=X_train, y_train=y_train)\n"
   ]
  },
  {
   "cell_type": "code",
   "execution_count": 120,
   "metadata": {},
   "outputs": [
    {
     "data": {
      "text/plain": [
       "0.8447512880163144"
      ]
     },
     "execution_count": 120,
     "metadata": {},
     "output_type": "execute_result"
    }
   ],
   "source": [
    "best_score_refined_SVC"
   ]
  },
  {
   "cell_type": "code",
   "execution_count": 121,
   "metadata": {},
   "outputs": [
    {
     "data": {
      "text/plain": [
       "0.8484886204179931"
      ]
     },
     "execution_count": 121,
     "metadata": {},
     "output_type": "execute_result"
    }
   ],
   "source": [
    "best_score_refined_randomforest"
   ]
  },
  {
   "cell_type": "code",
   "execution_count": 122,
   "metadata": {},
   "outputs": [
    {
     "data": {
      "text/plain": [
       "array([0.        , 0.0294829 , 0.19876059, 0.05840526, 0.09133702,\n",
       "       0.13794981, 0.00848478, 0.0101331 , 0.00042535, 0.11647344,\n",
       "       0.11264987, 0.09761996, 0.        , 0.00286236, 0.00654636,\n",
       "       0.00834296, 0.01237585, 0.01613036, 0.09202003])"
      ]
     },
     "execution_count": 122,
     "metadata": {},
     "output_type": "execute_result"
    }
   ],
   "source": [
    "best_estimator_refined_randomforest.feature_importances_"
   ]
  },
  {
   "cell_type": "code",
   "execution_count": 123,
   "metadata": {},
   "outputs": [
    {
     "data": {
      "text/plain": [
       "['event_offer_received',\n",
       " 'event_offer_viewed',\n",
       " 'total_amount_before_transaction',\n",
       " 'age',\n",
       " 'income',\n",
       " 'customer_loyalty_days',\n",
       " 'gender_F',\n",
       " 'gender_M',\n",
       " 'gender_O',\n",
       " 'offer_reward',\n",
       " 'difficulty',\n",
       " 'duration',\n",
       " 'email',\n",
       " 'mobile',\n",
       " 'social',\n",
       " 'web',\n",
       " 'offer_type_bogo',\n",
       " 'offer_type_discount',\n",
       " 'offer_type_informational']"
      ]
     },
     "execution_count": 123,
     "metadata": {},
     "output_type": "execute_result"
    }
   ],
   "source": [
    "features.columns.tolist()"
   ]
  },
  {
   "cell_type": "markdown",
   "metadata": {},
   "source": [
    "Based on the scores we will select the best model to be the RandomForestClassifier with the above hyperparameters. Now we will go on into looking at what are the features of the model with most importance."
   ]
  },
  {
   "cell_type": "markdown",
   "metadata": {},
   "source": [
    "__Feature Importance__"
   ]
  },
  {
   "cell_type": "code",
   "execution_count": 106,
   "metadata": {},
   "outputs": [],
   "source": [
    "feature_importance_df = pd.DataFrame(best_estimator_refined_randomforest.feature_importances_, columns=['feature_importance'],index=features.columns.tolist())"
   ]
  },
  {
   "cell_type": "code",
   "execution_count": 115,
   "metadata": {},
   "outputs": [
    {
     "data": {
      "image/png": "[encoded data removed]",
      "text/plain": [
       "<Figure size 1440x1080 with 1 Axes>"
      ]
     },
     "metadata": {
      "needs_background": "light"
     },
     "output_type": "display_data"
    }
   ],
   "source": [
    "feature_importance_df.sort_values('feature_importance', ascending=False).plot(kind='bar', color='green')\n",
    "plt.figtext(.5,.9,'Feature Importance Random Forest Classifier', fontsize=50, ha='center')\n",
    "plt.rcParams[\"figure.figsize\"] = (20,15)\n",
    "plt.xticks(fontsize=20)\n",
    "plt.yticks(fontsize=20)\n",
    "plt.ylabel('Importance')\n",
    "plt.xlabel('Features');"
   ]
  },
  {
   "cell_type": "markdown",
   "metadata": {},
   "source": [
    "We can see that the features that are the most important for the model are: \n",
    "1) The total amount spent by the customer prior to a trasaction the customer \\\n",
    "2) The customer loyalty days \\\n",
    "3) And the quantity of the reward for the offer \n",
    "\n",
    "The three features intuitevely make a lot of sense that are highly imporant for a model that predicts whether an offer will be completed by a customer or not. "
   ]
  },
  {
   "cell_type": "markdown",
   "metadata": {},
   "source": [
    "__Validate Test Data__"
   ]
  },
  {
   "cell_type": "code",
   "execution_count": 136,
   "metadata": {},
   "outputs": [
    {
     "data": {
      "text/plain": [
       "array([0, 0, 1, ..., 0, 0, 1], dtype=uint8)"
      ]
     },
     "execution_count": 136,
     "metadata": {},
     "output_type": "execute_result"
    }
   ],
   "source": [
    "grid_randomforest.predict(X_test)"
   ]
  },
  {
   "cell_type": "code",
   "execution_count": 139,
   "metadata": {},
   "outputs": [
    {
     "name": "stdout",
     "output_type": "stream",
     "text": [
      "Accuracy Score on test data set: 0.8327940533449935\n"
     ]
    }
   ],
   "source": [
    "# Predict with X_test features\n",
    "y_pred = grid_randomforest.predict(X_test)\n",
    "\n",
    "# Compare predictions to y_test labels\n",
    "test_score_accuracy = accuracy_score(y_test, y_pred)\n",
    "print('Accuracy Score on test data set:', test_score_accuracy)"
   ]
  },
  {
   "cell_type": "code",
   "execution_count": 141,
   "metadata": {},
   "outputs": [
    {
     "name": "stdout",
     "output_type": "stream",
     "text": [
      "Precision Score on test data set: 0.811408789885611\n"
     ]
    }
   ],
   "source": [
    "\n",
    "# Compare predictions to y_test labels\n",
    "test_score_precision = precision_score(y_test, y_pred)\n",
    "print('Precision Score on test data set:', test_score_precision)"
   ]
  },
  {
   "cell_type": "code",
   "execution_count": 142,
   "metadata": {},
   "outputs": [
    {
     "name": "stdout",
     "output_type": "stream",
     "text": [
      "Recall Score on test data set: 0.8910743801652893\n"
     ]
    }
   ],
   "source": [
    "\n",
    "# Compare predictions to y_test labels\n",
    "test_score_recall = recall_score(y_test, y_pred)\n",
    "print('Recall Score on test data set:', test_score_recall)"
   ]
  },
  {
   "cell_type": "code",
   "execution_count": 144,
   "metadata": {},
   "outputs": [
    {
     "name": "stdout",
     "output_type": "stream",
     "text": [
      "F1 Score on test data set: 0.8493776587364108\n"
     ]
    }
   ],
   "source": [
    "# Compare predictions to y_test labels\n",
    "f1_score_recall = f1_score(y_test, y_pred)\n",
    "print('F1 Score on test data set:', f1_score_recall)"
   ]
  },
  {
   "cell_type": "markdown",
   "metadata": {},
   "source": [
    "We see very good scores for accuracy, precision, recall and f1 score for the test dataset to be able to predict if an offer is completed based on all the features defined. We could potentially select Kbest features to reduce the number of features to the ones that perfor best for this model as a refinement step."
   ]
  },
  {
   "cell_type": "markdown",
   "metadata": {},
   "source": [
    "__Conclusions__"
   ]
  },
  {
   "cell_type": "markdown",
   "metadata": {},
   "source": [
    "I combined the data from 3 different datasets, the profile dataset that hads customer data , the portfolio dataset which hads offer data and finally the transcript dataset which records the transactions that have been made at Starbucks.\n",
    "\n",
    "Then after exploring and cleaning the datasets, new features have been defined with the data specially related to cusomter loyalty days which is the number of days since the customer became a member, and the amount of money spend before a transaction and if a offer has been received, viewed and completed for that transaction. These two features are the most important features for the predicitve model that is defined which is using the RandomForestClassifier. \n",
    "\n",
    "For the predictive model, after performing hyperparamter tuning, the F1 score obtaintedof the model is 0.5849, the precision is 0.811, the accuracy score is 0.833 and the recall is 0.891 which all make a quite good score of the model. However, when looking at the data I conclude that there is not too much data that the model is ingesting and it would be nice to get more data to define a even more robust model and with more demographic data for instance. This could help us define a recommendation system for new customers that have a similar demographic profile (age, salary, gender, region, etc) in order to send them the offers that is interesting for similar people for whom we do have data that have a similar profile. \n",
    "\n"
   ]
  }
 ],
 "metadata": {
  "kernelspec": {
   "display_name": "Python 3 (ipykernel)",
   "language": "python",
   "name": "python3"
  },
  "language_info": {
   "codemirror_mode": {
    "name": "ipython",
    "version": 3
   },
   "file_extension": ".py",
   "mimetype": "text/x-python",
   "name": "python",
   "nbconvert_exporter": "python",
   "pygments_lexer": "ipython3",
   "version": "3.9.7"
  }
 },
 "nbformat": 4,
 "nbformat_minor": 4
}
